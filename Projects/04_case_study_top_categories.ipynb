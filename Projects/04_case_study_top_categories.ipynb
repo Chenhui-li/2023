{
 "cells": [
  {
   "cell_type": "markdown",
   "metadata": {},
   "source": [
    "# Case study - favourable words from restaurant reviews"
   ]
  },
  {
   "cell_type": "code",
   "execution_count": 1,
   "metadata": {},
   "outputs": [],
   "source": [
    "# import the required libraries here\n",
    "import pandas as pd\n",
    "import matplotlib.pyplot as plt "
   ]
  },
  {
   "cell_type": "markdown",
   "metadata": {
    "tags": []
   },
   "source": [
    "## Most popular restaurant category\n",
    "Hopefully you had a look at the data dictionary [here](https://www.yelp.com/dataset/documentation/main)\n",
    "and concluded that the business.json file was the best place to start to answer the question of what is the most popular category. We load the data in from file for you. If the data file is in your working directory, with this notebooks, this should work. Then we perform some typical quick looks at it."
   ]
  },
  {
   "cell_type": "code",
   "execution_count": 5,
   "metadata": {},
   "outputs": [],
   "source": [
    "# downloaded myself from yelp dataset website, saved to the same working directory, and unzip the files\n",
    "import tarfile\n",
    "tar=tarfile.open(\"yelp_dataset.tar\")\n",
    "tar.extractall()"
   ]
  },
  {
   "cell_type": "code",
   "execution_count": 6,
   "metadata": {},
   "outputs": [],
   "source": [
    "# For convenience here, we are accessing the data in the working directory that contains our notebooks.\n",
    "# Normal best practise is to keep your data separate, but this keeps things simple.\n",
    "\n",
    "business = pd.read_json('yelp_academic_dataset_business.json', lines=True)"
   ]
  },
  {
   "cell_type": "code",
   "execution_count": 7,
   "metadata": {},
   "outputs": [
    {
     "data": {
      "text/plain": [
       "(150346, 14)"
      ]
     },
     "execution_count": 7,
     "metadata": {},
     "output_type": "execute_result"
    }
   ],
   "source": [
    "business.shape"
   ]
  },
  {
   "cell_type": "code",
   "execution_count": 8,
   "metadata": {},
   "outputs": [
    {
     "data": {
      "text/html": [
       "<div>\n",
       "<style scoped>\n",
       "    .dataframe tbody tr th:only-of-type {\n",
       "        vertical-align: middle;\n",
       "    }\n",
       "\n",
       "    .dataframe tbody tr th {\n",
       "        vertical-align: top;\n",
       "    }\n",
       "\n",
       "    .dataframe thead th {\n",
       "        text-align: right;\n",
       "    }\n",
       "</style>\n",
       "<table border=\"1\" class=\"dataframe\">\n",
       "  <thead>\n",
       "    <tr style=\"text-align: right;\">\n",
       "      <th></th>\n",
       "      <th>business_id</th>\n",
       "      <th>name</th>\n",
       "      <th>address</th>\n",
       "      <th>city</th>\n",
       "      <th>state</th>\n",
       "      <th>postal_code</th>\n",
       "      <th>latitude</th>\n",
       "      <th>longitude</th>\n",
       "      <th>stars</th>\n",
       "      <th>review_count</th>\n",
       "      <th>is_open</th>\n",
       "      <th>attributes</th>\n",
       "      <th>categories</th>\n",
       "      <th>hours</th>\n",
       "    </tr>\n",
       "  </thead>\n",
       "  <tbody>\n",
       "    <tr>\n",
       "      <th>0</th>\n",
       "      <td>Pns2l4eNsfO8kk83dixA6A</td>\n",
       "      <td>Abby Rappoport, LAC, CMQ</td>\n",
       "      <td>1616 Chapala St, Ste 2</td>\n",
       "      <td>Santa Barbara</td>\n",
       "      <td>CA</td>\n",
       "      <td>93101</td>\n",
       "      <td>34.426679</td>\n",
       "      <td>-119.711197</td>\n",
       "      <td>5.0</td>\n",
       "      <td>7</td>\n",
       "      <td>0</td>\n",
       "      <td>{'ByAppointmentOnly': 'True'}</td>\n",
       "      <td>Doctors, Traditional Chinese Medicine, Naturop...</td>\n",
       "      <td>None</td>\n",
       "    </tr>\n",
       "    <tr>\n",
       "      <th>1</th>\n",
       "      <td>mpf3x-BjTdTEA3yCZrAYPw</td>\n",
       "      <td>The UPS Store</td>\n",
       "      <td>87 Grasso Plaza Shopping Center</td>\n",
       "      <td>Affton</td>\n",
       "      <td>MO</td>\n",
       "      <td>63123</td>\n",
       "      <td>38.551126</td>\n",
       "      <td>-90.335695</td>\n",
       "      <td>3.0</td>\n",
       "      <td>15</td>\n",
       "      <td>1</td>\n",
       "      <td>{'BusinessAcceptsCreditCards': 'True'}</td>\n",
       "      <td>Shipping Centers, Local Services, Notaries, Ma...</td>\n",
       "      <td>{'Monday': '0:0-0:0', 'Tuesday': '8:0-18:30', ...</td>\n",
       "    </tr>\n",
       "    <tr>\n",
       "      <th>2</th>\n",
       "      <td>tUFrWirKiKi_TAnsVWINQQ</td>\n",
       "      <td>Target</td>\n",
       "      <td>5255 E Broadway Blvd</td>\n",
       "      <td>Tucson</td>\n",
       "      <td>AZ</td>\n",
       "      <td>85711</td>\n",
       "      <td>32.223236</td>\n",
       "      <td>-110.880452</td>\n",
       "      <td>3.5</td>\n",
       "      <td>22</td>\n",
       "      <td>0</td>\n",
       "      <td>{'BikeParking': 'True', 'BusinessAcceptsCredit...</td>\n",
       "      <td>Department Stores, Shopping, Fashion, Home &amp; G...</td>\n",
       "      <td>{'Monday': '8:0-22:0', 'Tuesday': '8:0-22:0', ...</td>\n",
       "    </tr>\n",
       "    <tr>\n",
       "      <th>3</th>\n",
       "      <td>MTSW4McQd7CbVtyjqoe9mw</td>\n",
       "      <td>St Honore Pastries</td>\n",
       "      <td>935 Race St</td>\n",
       "      <td>Philadelphia</td>\n",
       "      <td>PA</td>\n",
       "      <td>19107</td>\n",
       "      <td>39.955505</td>\n",
       "      <td>-75.155564</td>\n",
       "      <td>4.0</td>\n",
       "      <td>80</td>\n",
       "      <td>1</td>\n",
       "      <td>{'RestaurantsDelivery': 'False', 'OutdoorSeati...</td>\n",
       "      <td>Restaurants, Food, Bubble Tea, Coffee &amp; Tea, B...</td>\n",
       "      <td>{'Monday': '7:0-20:0', 'Tuesday': '7:0-20:0', ...</td>\n",
       "    </tr>\n",
       "    <tr>\n",
       "      <th>4</th>\n",
       "      <td>mWMc6_wTdE0EUBKIGXDVfA</td>\n",
       "      <td>Perkiomen Valley Brewery</td>\n",
       "      <td>101 Walnut St</td>\n",
       "      <td>Green Lane</td>\n",
       "      <td>PA</td>\n",
       "      <td>18054</td>\n",
       "      <td>40.338183</td>\n",
       "      <td>-75.471659</td>\n",
       "      <td>4.5</td>\n",
       "      <td>13</td>\n",
       "      <td>1</td>\n",
       "      <td>{'BusinessAcceptsCreditCards': 'True', 'Wheelc...</td>\n",
       "      <td>Brewpubs, Breweries, Food</td>\n",
       "      <td>{'Wednesday': '14:0-22:0', 'Thursday': '16:0-2...</td>\n",
       "    </tr>\n",
       "  </tbody>\n",
       "</table>\n",
       "</div>"
      ],
      "text/plain": [
       "              business_id                      name  \\\n",
       "0  Pns2l4eNsfO8kk83dixA6A  Abby Rappoport, LAC, CMQ   \n",
       "1  mpf3x-BjTdTEA3yCZrAYPw             The UPS Store   \n",
       "2  tUFrWirKiKi_TAnsVWINQQ                    Target   \n",
       "3  MTSW4McQd7CbVtyjqoe9mw        St Honore Pastries   \n",
       "4  mWMc6_wTdE0EUBKIGXDVfA  Perkiomen Valley Brewery   \n",
       "\n",
       "                           address           city state postal_code  \\\n",
       "0           1616 Chapala St, Ste 2  Santa Barbara    CA       93101   \n",
       "1  87 Grasso Plaza Shopping Center         Affton    MO       63123   \n",
       "2             5255 E Broadway Blvd         Tucson    AZ       85711   \n",
       "3                      935 Race St   Philadelphia    PA       19107   \n",
       "4                    101 Walnut St     Green Lane    PA       18054   \n",
       "\n",
       "    latitude   longitude  stars  review_count  is_open  \\\n",
       "0  34.426679 -119.711197    5.0             7        0   \n",
       "1  38.551126  -90.335695    3.0            15        1   \n",
       "2  32.223236 -110.880452    3.5            22        0   \n",
       "3  39.955505  -75.155564    4.0            80        1   \n",
       "4  40.338183  -75.471659    4.5            13        1   \n",
       "\n",
       "                                          attributes  \\\n",
       "0                      {'ByAppointmentOnly': 'True'}   \n",
       "1             {'BusinessAcceptsCreditCards': 'True'}   \n",
       "2  {'BikeParking': 'True', 'BusinessAcceptsCredit...   \n",
       "3  {'RestaurantsDelivery': 'False', 'OutdoorSeati...   \n",
       "4  {'BusinessAcceptsCreditCards': 'True', 'Wheelc...   \n",
       "\n",
       "                                          categories  \\\n",
       "0  Doctors, Traditional Chinese Medicine, Naturop...   \n",
       "1  Shipping Centers, Local Services, Notaries, Ma...   \n",
       "2  Department Stores, Shopping, Fashion, Home & G...   \n",
       "3  Restaurants, Food, Bubble Tea, Coffee & Tea, B...   \n",
       "4                          Brewpubs, Breweries, Food   \n",
       "\n",
       "                                               hours  \n",
       "0                                               None  \n",
       "1  {'Monday': '0:0-0:0', 'Tuesday': '8:0-18:30', ...  \n",
       "2  {'Monday': '8:0-22:0', 'Tuesday': '8:0-22:0', ...  \n",
       "3  {'Monday': '7:0-20:0', 'Tuesday': '7:0-20:0', ...  \n",
       "4  {'Wednesday': '14:0-22:0', 'Thursday': '16:0-2...  "
      ]
     },
     "execution_count": 8,
     "metadata": {},
     "output_type": "execute_result"
    }
   ],
   "source": [
    "business.head()"
   ]
  },
  {
   "cell_type": "code",
   "execution_count": 9,
   "metadata": {},
   "outputs": [
    {
     "name": "stdout",
     "output_type": "stream",
     "text": [
      "<class 'pandas.core.frame.DataFrame'>\n",
      "RangeIndex: 150346 entries, 0 to 150345\n",
      "Data columns (total 14 columns):\n",
      " #   Column        Non-Null Count   Dtype  \n",
      "---  ------        --------------   -----  \n",
      " 0   business_id   150346 non-null  object \n",
      " 1   name          150346 non-null  object \n",
      " 2   address       150346 non-null  object \n",
      " 3   city          150346 non-null  object \n",
      " 4   state         150346 non-null  object \n",
      " 5   postal_code   150346 non-null  object \n",
      " 6   latitude      150346 non-null  float64\n",
      " 7   longitude     150346 non-null  float64\n",
      " 8   stars         150346 non-null  float64\n",
      " 9   review_count  150346 non-null  int64  \n",
      " 10  is_open       150346 non-null  int64  \n",
      " 11  attributes    136602 non-null  object \n",
      " 12  categories    150243 non-null  object \n",
      " 13  hours         127123 non-null  object \n",
      "dtypes: float64(3), int64(2), object(9)\n",
      "memory usage: 16.1+ MB\n"
     ]
    }
   ],
   "source": [
    "business.info()"
   ]
  },
  {
   "cell_type": "markdown",
   "metadata": {},
   "source": [
    "Not all columns are useful to us here. We are pretty sure we aren't interested in the specific address, attributes (facilities offered), the hours open, whether it's still open or not, the latitude and longitude, and the name of the restaurant. We also decide we aren't interested in drilling down to the postal code or neighborhood level either, so go ahead and drop those columns as well. You will now create a list of these columns and drop them from the DataFrame. Remember the axis and inplace arguments! Also, notice that there are fewer non-null categories than there are business_id. We'll come back to this point later."
   ]
  },
  {
   "cell_type": "code",
   "execution_count": 12,
   "metadata": {},
   "outputs": [],
   "source": [
    "# task: create a list of columns to drop, call it drop_cols\n",
    "# then go ahead and drop those columns from the DataFrame\n",
    "# two lines of code here:\n",
    "drop_cols = ['address', 'attributes', 'hours', 'is_open', 'latitude', 'longitude', 'name', 'postal_code']\n",
    "business.drop(drop_cols, axis=1, inplace=True) \n",
    "# axis=1 means columns, o means index"
   ]
  },
  {
   "cell_type": "code",
   "execution_count": 13,
   "metadata": {},
   "outputs": [
    {
     "data": {
      "text/html": [
       "<div>\n",
       "<style scoped>\n",
       "    .dataframe tbody tr th:only-of-type {\n",
       "        vertical-align: middle;\n",
       "    }\n",
       "\n",
       "    .dataframe tbody tr th {\n",
       "        vertical-align: top;\n",
       "    }\n",
       "\n",
       "    .dataframe thead th {\n",
       "        text-align: right;\n",
       "    }\n",
       "</style>\n",
       "<table border=\"1\" class=\"dataframe\">\n",
       "  <thead>\n",
       "    <tr style=\"text-align: right;\">\n",
       "      <th></th>\n",
       "      <th>business_id</th>\n",
       "      <th>city</th>\n",
       "      <th>state</th>\n",
       "      <th>stars</th>\n",
       "      <th>review_count</th>\n",
       "      <th>categories</th>\n",
       "    </tr>\n",
       "  </thead>\n",
       "  <tbody>\n",
       "    <tr>\n",
       "      <th>0</th>\n",
       "      <td>Pns2l4eNsfO8kk83dixA6A</td>\n",
       "      <td>Santa Barbara</td>\n",
       "      <td>CA</td>\n",
       "      <td>5.0</td>\n",
       "      <td>7</td>\n",
       "      <td>Doctors, Traditional Chinese Medicine, Naturop...</td>\n",
       "    </tr>\n",
       "    <tr>\n",
       "      <th>1</th>\n",
       "      <td>mpf3x-BjTdTEA3yCZrAYPw</td>\n",
       "      <td>Affton</td>\n",
       "      <td>MO</td>\n",
       "      <td>3.0</td>\n",
       "      <td>15</td>\n",
       "      <td>Shipping Centers, Local Services, Notaries, Ma...</td>\n",
       "    </tr>\n",
       "    <tr>\n",
       "      <th>2</th>\n",
       "      <td>tUFrWirKiKi_TAnsVWINQQ</td>\n",
       "      <td>Tucson</td>\n",
       "      <td>AZ</td>\n",
       "      <td>3.5</td>\n",
       "      <td>22</td>\n",
       "      <td>Department Stores, Shopping, Fashion, Home &amp; G...</td>\n",
       "    </tr>\n",
       "    <tr>\n",
       "      <th>3</th>\n",
       "      <td>MTSW4McQd7CbVtyjqoe9mw</td>\n",
       "      <td>Philadelphia</td>\n",
       "      <td>PA</td>\n",
       "      <td>4.0</td>\n",
       "      <td>80</td>\n",
       "      <td>Restaurants, Food, Bubble Tea, Coffee &amp; Tea, B...</td>\n",
       "    </tr>\n",
       "    <tr>\n",
       "      <th>4</th>\n",
       "      <td>mWMc6_wTdE0EUBKIGXDVfA</td>\n",
       "      <td>Green Lane</td>\n",
       "      <td>PA</td>\n",
       "      <td>4.5</td>\n",
       "      <td>13</td>\n",
       "      <td>Brewpubs, Breweries, Food</td>\n",
       "    </tr>\n",
       "  </tbody>\n",
       "</table>\n",
       "</div>"
      ],
      "text/plain": [
       "              business_id           city state  stars  review_count  \\\n",
       "0  Pns2l4eNsfO8kk83dixA6A  Santa Barbara    CA    5.0             7   \n",
       "1  mpf3x-BjTdTEA3yCZrAYPw         Affton    MO    3.0            15   \n",
       "2  tUFrWirKiKi_TAnsVWINQQ         Tucson    AZ    3.5            22   \n",
       "3  MTSW4McQd7CbVtyjqoe9mw   Philadelphia    PA    4.0            80   \n",
       "4  mWMc6_wTdE0EUBKIGXDVfA     Green Lane    PA    4.5            13   \n",
       "\n",
       "                                          categories  \n",
       "0  Doctors, Traditional Chinese Medicine, Naturop...  \n",
       "1  Shipping Centers, Local Services, Notaries, Ma...  \n",
       "2  Department Stores, Shopping, Fashion, Home & G...  \n",
       "3  Restaurants, Food, Bubble Tea, Coffee & Tea, B...  \n",
       "4                          Brewpubs, Breweries, Food  "
      ]
     },
     "execution_count": 13,
     "metadata": {},
     "output_type": "execute_result"
    }
   ],
   "source": [
    "business.head()"
   ]
  },
  {
   "cell_type": "markdown",
   "metadata": {},
   "source": [
    "Okay, so now we have a much more manageable (width) of data. Remember our first task is to identify the most popular type of restaurant. We now have our eye on the categories column. We could simply count each individual category in this column, just as we did with our pet owners survey. But our categories column isn't quite in the same format as that data. Each item in categories is actually a string, as we demonstrate below, with each item we're interested in separated by commas."
   ]
  },
  {
   "cell_type": "code",
   "execution_count": 14,
   "metadata": {},
   "outputs": [
    {
     "name": "stdout",
     "output_type": "stream",
     "text": [
      "Doctors, Traditional Chinese Medicine, Naturopathic/Holistic, Acupuncture, Health & Medical, Nutritionists\n"
     ]
    }
   ],
   "source": [
    "# print the first element of business['categories']\n",
    "print(business.categories[0])"
   ]
  },
  {
   "cell_type": "code",
   "execution_count": 15,
   "metadata": {},
   "outputs": [
    {
     "data": {
      "text/plain": [
       "str"
      ]
     },
     "execution_count": 15,
     "metadata": {},
     "output_type": "execute_result"
    }
   ],
   "source": [
    "# what is the type of this element?\n",
    "type(business.categories[0])"
   ]
  },
  {
   "cell_type": "code",
   "execution_count": 16,
   "metadata": {},
   "outputs": [
    {
     "data": {
      "text/plain": [
       "'D'"
      ]
     },
     "execution_count": 16,
     "metadata": {},
     "output_type": "execute_result"
    }
   ],
   "source": [
    "# if the first element were a list, this would return 'Tours', not 'T'\n",
    "business.categories[0][0]"
   ]
  },
  {
   "cell_type": "markdown",
   "metadata": {},
   "source": [
    "You're now going to use [this](https://pandas.pydata.org/pandas-docs/stable/generated/pandas.Series.str.split.html) pandas Series method to split these strings into lists."
   ]
  },
  {
   "cell_type": "code",
   "execution_count": 17,
   "metadata": {},
   "outputs": [],
   "source": [
    "# task: split the categories column (a pandas Series) into lists of categories,\n",
    "# e.g. the string \"Category1, Category2\" becomes the list [\"Category1\", \"Category2\"]\n",
    "# hint: pass the argument pat = ', ?' in to split on a comma which may be followed by a space\n",
    "business['categories'] = business['categories'].str.split(pat = ', ?')"
   ]
  },
  {
   "cell_type": "code",
   "execution_count": 18,
   "metadata": {},
   "outputs": [
    {
     "data": {
      "text/plain": [
       "0    [Doctors, Traditional Chinese Medicine, Naturo...\n",
       "1    [Shipping Centers, Local Services, Notaries, M...\n",
       "2    [Department Stores, Shopping, Fashion, Home & ...\n",
       "3    [Restaurants, Food, Bubble Tea, Coffee & Tea, ...\n",
       "4                          [Brewpubs, Breweries, Food]\n",
       "Name: categories, dtype: object"
      ]
     },
     "execution_count": 18,
     "metadata": {},
     "output_type": "execute_result"
    }
   ],
   "source": [
    "business['categories'].head()"
   ]
  },
  {
   "cell_type": "markdown",
   "metadata": {},
   "source": [
    "See we now have a pandas Series of lists. Go ahead now and use the technique you learnt in the pet owners survey to print the top (most frequent) categories. We don't need to keep the raw, very long, list of categories, so go ahead and chain the method for counting the values and outputting the top twenty in one go. This may take your computer a minute or two."
   ]
  },
  {
   "cell_type": "code",
   "execution_count": 20,
   "metadata": {},
   "outputs": [
    {
     "name": "stderr",
     "output_type": "stream",
     "text": [
      "C:\\Users\\chenh\\AppData\\Local\\Temp\\ipykernel_24228\\1635236919.py:4: FutureWarning: The default dtype for empty Series will be 'object' instead of 'float64' in a future version. Specify a dtype explicitly to silence this warning.\n",
      "  category_counts = business['categories'].apply(pd.Series).stack().reset_index(drop=True).value_counts().head(20)\n",
      "C:\\Users\\chenh\\AppData\\Local\\Temp\\ipykernel_24228\\1635236919.py:4: FutureWarning: The default dtype for empty Series will be 'object' instead of 'float64' in a future version. Specify a dtype explicitly to silence this warning.\n",
      "  category_counts = business['categories'].apply(pd.Series).stack().reset_index(drop=True).value_counts().head(20)\n",
      "C:\\Users\\chenh\\AppData\\Local\\Temp\\ipykernel_24228\\1635236919.py:4: FutureWarning: The default dtype for empty Series will be 'object' instead of 'float64' in a future version. Specify a dtype explicitly to silence this warning.\n",
      "  category_counts = business['categories'].apply(pd.Series).stack().reset_index(drop=True).value_counts().head(20)\n",
      "C:\\Users\\chenh\\AppData\\Local\\Temp\\ipykernel_24228\\1635236919.py:4: FutureWarning: The default dtype for empty Series will be 'object' instead of 'float64' in a future version. Specify a dtype explicitly to silence this warning.\n",
      "  category_counts = business['categories'].apply(pd.Series).stack().reset_index(drop=True).value_counts().head(20)\n",
      "C:\\Users\\chenh\\AppData\\Local\\Temp\\ipykernel_24228\\1635236919.py:4: FutureWarning: The default dtype for empty Series will be 'object' instead of 'float64' in a future version. Specify a dtype explicitly to silence this warning.\n",
      "  category_counts = business['categories'].apply(pd.Series).stack().reset_index(drop=True).value_counts().head(20)\n",
      "C:\\Users\\chenh\\AppData\\Local\\Temp\\ipykernel_24228\\1635236919.py:4: FutureWarning: The default dtype for empty Series will be 'object' instead of 'float64' in a future version. Specify a dtype explicitly to silence this warning.\n",
      "  category_counts = business['categories'].apply(pd.Series).stack().reset_index(drop=True).value_counts().head(20)\n",
      "C:\\Users\\chenh\\AppData\\Local\\Temp\\ipykernel_24228\\1635236919.py:4: FutureWarning: The default dtype for empty Series will be 'object' instead of 'float64' in a future version. Specify a dtype explicitly to silence this warning.\n",
      "  category_counts = business['categories'].apply(pd.Series).stack().reset_index(drop=True).value_counts().head(20)\n",
      "C:\\Users\\chenh\\AppData\\Local\\Temp\\ipykernel_24228\\1635236919.py:4: FutureWarning: The default dtype for empty Series will be 'object' instead of 'float64' in a future version. Specify a dtype explicitly to silence this warning.\n",
      "  category_counts = business['categories'].apply(pd.Series).stack().reset_index(drop=True).value_counts().head(20)\n",
      "C:\\Users\\chenh\\AppData\\Local\\Temp\\ipykernel_24228\\1635236919.py:4: FutureWarning: The default dtype for empty Series will be 'object' instead of 'float64' in a future version. Specify a dtype explicitly to silence this warning.\n",
      "  category_counts = business['categories'].apply(pd.Series).stack().reset_index(drop=True).value_counts().head(20)\n",
      "C:\\Users\\chenh\\AppData\\Local\\Temp\\ipykernel_24228\\1635236919.py:4: FutureWarning: The default dtype for empty Series will be 'object' instead of 'float64' in a future version. Specify a dtype explicitly to silence this warning.\n",
      "  category_counts = business['categories'].apply(pd.Series).stack().reset_index(drop=True).value_counts().head(20)\n",
      "C:\\Users\\chenh\\AppData\\Local\\Temp\\ipykernel_24228\\1635236919.py:4: FutureWarning: The default dtype for empty Series will be 'object' instead of 'float64' in a future version. Specify a dtype explicitly to silence this warning.\n",
      "  category_counts = business['categories'].apply(pd.Series).stack().reset_index(drop=True).value_counts().head(20)\n",
      "C:\\Users\\chenh\\AppData\\Local\\Temp\\ipykernel_24228\\1635236919.py:4: FutureWarning: The default dtype for empty Series will be 'object' instead of 'float64' in a future version. Specify a dtype explicitly to silence this warning.\n",
      "  category_counts = business['categories'].apply(pd.Series).stack().reset_index(drop=True).value_counts().head(20)\n",
      "C:\\Users\\chenh\\AppData\\Local\\Temp\\ipykernel_24228\\1635236919.py:4: FutureWarning: The default dtype for empty Series will be 'object' instead of 'float64' in a future version. Specify a dtype explicitly to silence this warning.\n",
      "  category_counts = business['categories'].apply(pd.Series).stack().reset_index(drop=True).value_counts().head(20)\n",
      "C:\\Users\\chenh\\AppData\\Local\\Temp\\ipykernel_24228\\1635236919.py:4: FutureWarning: The default dtype for empty Series will be 'object' instead of 'float64' in a future version. Specify a dtype explicitly to silence this warning.\n",
      "  category_counts = business['categories'].apply(pd.Series).stack().reset_index(drop=True).value_counts().head(20)\n",
      "C:\\Users\\chenh\\AppData\\Local\\Temp\\ipykernel_24228\\1635236919.py:4: FutureWarning: The default dtype for empty Series will be 'object' instead of 'float64' in a future version. Specify a dtype explicitly to silence this warning.\n",
      "  category_counts = business['categories'].apply(pd.Series).stack().reset_index(drop=True).value_counts().head(20)\n",
      "C:\\Users\\chenh\\AppData\\Local\\Temp\\ipykernel_24228\\1635236919.py:4: FutureWarning: The default dtype for empty Series will be 'object' instead of 'float64' in a future version. Specify a dtype explicitly to silence this warning.\n",
      "  category_counts = business['categories'].apply(pd.Series).stack().reset_index(drop=True).value_counts().head(20)\n",
      "C:\\Users\\chenh\\AppData\\Local\\Temp\\ipykernel_24228\\1635236919.py:4: FutureWarning: The default dtype for empty Series will be 'object' instead of 'float64' in a future version. Specify a dtype explicitly to silence this warning.\n",
      "  category_counts = business['categories'].apply(pd.Series).stack().reset_index(drop=True).value_counts().head(20)\n",
      "C:\\Users\\chenh\\AppData\\Local\\Temp\\ipykernel_24228\\1635236919.py:4: FutureWarning: The default dtype for empty Series will be 'object' instead of 'float64' in a future version. Specify a dtype explicitly to silence this warning.\n",
      "  category_counts = business['categories'].apply(pd.Series).stack().reset_index(drop=True).value_counts().head(20)\n",
      "C:\\Users\\chenh\\AppData\\Local\\Temp\\ipykernel_24228\\1635236919.py:4: FutureWarning: The default dtype for empty Series will be 'object' instead of 'float64' in a future version. Specify a dtype explicitly to silence this warning.\n",
      "  category_counts = business['categories'].apply(pd.Series).stack().reset_index(drop=True).value_counts().head(20)\n",
      "C:\\Users\\chenh\\AppData\\Local\\Temp\\ipykernel_24228\\1635236919.py:4: FutureWarning: The default dtype for empty Series will be 'object' instead of 'float64' in a future version. Specify a dtype explicitly to silence this warning.\n",
      "  category_counts = business['categories'].apply(pd.Series).stack().reset_index(drop=True).value_counts().head(20)\n",
      "C:\\Users\\chenh\\AppData\\Local\\Temp\\ipykernel_24228\\1635236919.py:4: FutureWarning: The default dtype for empty Series will be 'object' instead of 'float64' in a future version. Specify a dtype explicitly to silence this warning.\n",
      "  category_counts = business['categories'].apply(pd.Series).stack().reset_index(drop=True).value_counts().head(20)\n",
      "C:\\Users\\chenh\\AppData\\Local\\Temp\\ipykernel_24228\\1635236919.py:4: FutureWarning: The default dtype for empty Series will be 'object' instead of 'float64' in a future version. Specify a dtype explicitly to silence this warning.\n",
      "  category_counts = business['categories'].apply(pd.Series).stack().reset_index(drop=True).value_counts().head(20)\n",
      "C:\\Users\\chenh\\AppData\\Local\\Temp\\ipykernel_24228\\1635236919.py:4: FutureWarning: The default dtype for empty Series will be 'object' instead of 'float64' in a future version. Specify a dtype explicitly to silence this warning.\n",
      "  category_counts = business['categories'].apply(pd.Series).stack().reset_index(drop=True).value_counts().head(20)\n",
      "C:\\Users\\chenh\\AppData\\Local\\Temp\\ipykernel_24228\\1635236919.py:4: FutureWarning: The default dtype for empty Series will be 'object' instead of 'float64' in a future version. Specify a dtype explicitly to silence this warning.\n",
      "  category_counts = business['categories'].apply(pd.Series).stack().reset_index(drop=True).value_counts().head(20)\n",
      "C:\\Users\\chenh\\AppData\\Local\\Temp\\ipykernel_24228\\1635236919.py:4: FutureWarning: The default dtype for empty Series will be 'object' instead of 'float64' in a future version. Specify a dtype explicitly to silence this warning.\n",
      "  category_counts = business['categories'].apply(pd.Series).stack().reset_index(drop=True).value_counts().head(20)\n",
      "C:\\Users\\chenh\\AppData\\Local\\Temp\\ipykernel_24228\\1635236919.py:4: FutureWarning: The default dtype for empty Series will be 'object' instead of 'float64' in a future version. Specify a dtype explicitly to silence this warning.\n",
      "  category_counts = business['categories'].apply(pd.Series).stack().reset_index(drop=True).value_counts().head(20)\n",
      "C:\\Users\\chenh\\AppData\\Local\\Temp\\ipykernel_24228\\1635236919.py:4: FutureWarning: The default dtype for empty Series will be 'object' instead of 'float64' in a future version. Specify a dtype explicitly to silence this warning.\n",
      "  category_counts = business['categories'].apply(pd.Series).stack().reset_index(drop=True).value_counts().head(20)\n",
      "C:\\Users\\chenh\\AppData\\Local\\Temp\\ipykernel_24228\\1635236919.py:4: FutureWarning: The default dtype for empty Series will be 'object' instead of 'float64' in a future version. Specify a dtype explicitly to silence this warning.\n",
      "  category_counts = business['categories'].apply(pd.Series).stack().reset_index(drop=True).value_counts().head(20)\n",
      "C:\\Users\\chenh\\AppData\\Local\\Temp\\ipykernel_24228\\1635236919.py:4: FutureWarning: The default dtype for empty Series will be 'object' instead of 'float64' in a future version. Specify a dtype explicitly to silence this warning.\n",
      "  category_counts = business['categories'].apply(pd.Series).stack().reset_index(drop=True).value_counts().head(20)\n",
      "C:\\Users\\chenh\\AppData\\Local\\Temp\\ipykernel_24228\\1635236919.py:4: FutureWarning: The default dtype for empty Series will be 'object' instead of 'float64' in a future version. Specify a dtype explicitly to silence this warning.\n",
      "  category_counts = business['categories'].apply(pd.Series).stack().reset_index(drop=True).value_counts().head(20)\n",
      "C:\\Users\\chenh\\AppData\\Local\\Temp\\ipykernel_24228\\1635236919.py:4: FutureWarning: The default dtype for empty Series will be 'object' instead of 'float64' in a future version. Specify a dtype explicitly to silence this warning.\n",
      "  category_counts = business['categories'].apply(pd.Series).stack().reset_index(drop=True).value_counts().head(20)\n",
      "C:\\Users\\chenh\\AppData\\Local\\Temp\\ipykernel_24228\\1635236919.py:4: FutureWarning: The default dtype for empty Series will be 'object' instead of 'float64' in a future version. Specify a dtype explicitly to silence this warning.\n",
      "  category_counts = business['categories'].apply(pd.Series).stack().reset_index(drop=True).value_counts().head(20)\n",
      "C:\\Users\\chenh\\AppData\\Local\\Temp\\ipykernel_24228\\1635236919.py:4: FutureWarning: The default dtype for empty Series will be 'object' instead of 'float64' in a future version. Specify a dtype explicitly to silence this warning.\n",
      "  category_counts = business['categories'].apply(pd.Series).stack().reset_index(drop=True).value_counts().head(20)\n",
      "C:\\Users\\chenh\\AppData\\Local\\Temp\\ipykernel_24228\\1635236919.py:4: FutureWarning: The default dtype for empty Series will be 'object' instead of 'float64' in a future version. Specify a dtype explicitly to silence this warning.\n",
      "  category_counts = business['categories'].apply(pd.Series).stack().reset_index(drop=True).value_counts().head(20)\n",
      "C:\\Users\\chenh\\AppData\\Local\\Temp\\ipykernel_24228\\1635236919.py:4: FutureWarning: The default dtype for empty Series will be 'object' instead of 'float64' in a future version. Specify a dtype explicitly to silence this warning.\n",
      "  category_counts = business['categories'].apply(pd.Series).stack().reset_index(drop=True).value_counts().head(20)\n",
      "C:\\Users\\chenh\\AppData\\Local\\Temp\\ipykernel_24228\\1635236919.py:4: FutureWarning: The default dtype for empty Series will be 'object' instead of 'float64' in a future version. Specify a dtype explicitly to silence this warning.\n",
      "  category_counts = business['categories'].apply(pd.Series).stack().reset_index(drop=True).value_counts().head(20)\n",
      "C:\\Users\\chenh\\AppData\\Local\\Temp\\ipykernel_24228\\1635236919.py:4: FutureWarning: The default dtype for empty Series will be 'object' instead of 'float64' in a future version. Specify a dtype explicitly to silence this warning.\n",
      "  category_counts = business['categories'].apply(pd.Series).stack().reset_index(drop=True).value_counts().head(20)\n",
      "C:\\Users\\chenh\\AppData\\Local\\Temp\\ipykernel_24228\\1635236919.py:4: FutureWarning: The default dtype for empty Series will be 'object' instead of 'float64' in a future version. Specify a dtype explicitly to silence this warning.\n",
      "  category_counts = business['categories'].apply(pd.Series).stack().reset_index(drop=True).value_counts().head(20)\n",
      "C:\\Users\\chenh\\AppData\\Local\\Temp\\ipykernel_24228\\1635236919.py:4: FutureWarning: The default dtype for empty Series will be 'object' instead of 'float64' in a future version. Specify a dtype explicitly to silence this warning.\n",
      "  category_counts = business['categories'].apply(pd.Series).stack().reset_index(drop=True).value_counts().head(20)\n",
      "C:\\Users\\chenh\\AppData\\Local\\Temp\\ipykernel_24228\\1635236919.py:4: FutureWarning: The default dtype for empty Series will be 'object' instead of 'float64' in a future version. Specify a dtype explicitly to silence this warning.\n",
      "  category_counts = business['categories'].apply(pd.Series).stack().reset_index(drop=True).value_counts().head(20)\n",
      "C:\\Users\\chenh\\AppData\\Local\\Temp\\ipykernel_24228\\1635236919.py:4: FutureWarning: The default dtype for empty Series will be 'object' instead of 'float64' in a future version. Specify a dtype explicitly to silence this warning.\n",
      "  category_counts = business['categories'].apply(pd.Series).stack().reset_index(drop=True).value_counts().head(20)\n",
      "C:\\Users\\chenh\\AppData\\Local\\Temp\\ipykernel_24228\\1635236919.py:4: FutureWarning: The default dtype for empty Series will be 'object' instead of 'float64' in a future version. Specify a dtype explicitly to silence this warning.\n",
      "  category_counts = business['categories'].apply(pd.Series).stack().reset_index(drop=True).value_counts().head(20)\n",
      "C:\\Users\\chenh\\AppData\\Local\\Temp\\ipykernel_24228\\1635236919.py:4: FutureWarning: The default dtype for empty Series will be 'object' instead of 'float64' in a future version. Specify a dtype explicitly to silence this warning.\n",
      "  category_counts = business['categories'].apply(pd.Series).stack().reset_index(drop=True).value_counts().head(20)\n",
      "C:\\Users\\chenh\\AppData\\Local\\Temp\\ipykernel_24228\\1635236919.py:4: FutureWarning: The default dtype for empty Series will be 'object' instead of 'float64' in a future version. Specify a dtype explicitly to silence this warning.\n",
      "  category_counts = business['categories'].apply(pd.Series).stack().reset_index(drop=True).value_counts().head(20)\n",
      "C:\\Users\\chenh\\AppData\\Local\\Temp\\ipykernel_24228\\1635236919.py:4: FutureWarning: The default dtype for empty Series will be 'object' instead of 'float64' in a future version. Specify a dtype explicitly to silence this warning.\n",
      "  category_counts = business['categories'].apply(pd.Series).stack().reset_index(drop=True).value_counts().head(20)\n",
      "C:\\Users\\chenh\\AppData\\Local\\Temp\\ipykernel_24228\\1635236919.py:4: FutureWarning: The default dtype for empty Series will be 'object' instead of 'float64' in a future version. Specify a dtype explicitly to silence this warning.\n",
      "  category_counts = business['categories'].apply(pd.Series).stack().reset_index(drop=True).value_counts().head(20)\n",
      "C:\\Users\\chenh\\AppData\\Local\\Temp\\ipykernel_24228\\1635236919.py:4: FutureWarning: The default dtype for empty Series will be 'object' instead of 'float64' in a future version. Specify a dtype explicitly to silence this warning.\n",
      "  category_counts = business['categories'].apply(pd.Series).stack().reset_index(drop=True).value_counts().head(20)\n",
      "C:\\Users\\chenh\\AppData\\Local\\Temp\\ipykernel_24228\\1635236919.py:4: FutureWarning: The default dtype for empty Series will be 'object' instead of 'float64' in a future version. Specify a dtype explicitly to silence this warning.\n",
      "  category_counts = business['categories'].apply(pd.Series).stack().reset_index(drop=True).value_counts().head(20)\n",
      "C:\\Users\\chenh\\AppData\\Local\\Temp\\ipykernel_24228\\1635236919.py:4: FutureWarning: The default dtype for empty Series will be 'object' instead of 'float64' in a future version. Specify a dtype explicitly to silence this warning.\n",
      "  category_counts = business['categories'].apply(pd.Series).stack().reset_index(drop=True).value_counts().head(20)\n",
      "C:\\Users\\chenh\\AppData\\Local\\Temp\\ipykernel_24228\\1635236919.py:4: FutureWarning: The default dtype for empty Series will be 'object' instead of 'float64' in a future version. Specify a dtype explicitly to silence this warning.\n",
      "  category_counts = business['categories'].apply(pd.Series).stack().reset_index(drop=True).value_counts().head(20)\n",
      "C:\\Users\\chenh\\AppData\\Local\\Temp\\ipykernel_24228\\1635236919.py:4: FutureWarning: The default dtype for empty Series will be 'object' instead of 'float64' in a future version. Specify a dtype explicitly to silence this warning.\n",
      "  category_counts = business['categories'].apply(pd.Series).stack().reset_index(drop=True).value_counts().head(20)\n",
      "C:\\Users\\chenh\\AppData\\Local\\Temp\\ipykernel_24228\\1635236919.py:4: FutureWarning: The default dtype for empty Series will be 'object' instead of 'float64' in a future version. Specify a dtype explicitly to silence this warning.\n",
      "  category_counts = business['categories'].apply(pd.Series).stack().reset_index(drop=True).value_counts().head(20)\n",
      "C:\\Users\\chenh\\AppData\\Local\\Temp\\ipykernel_24228\\1635236919.py:4: FutureWarning: The default dtype for empty Series will be 'object' instead of 'float64' in a future version. Specify a dtype explicitly to silence this warning.\n",
      "  category_counts = business['categories'].apply(pd.Series).stack().reset_index(drop=True).value_counts().head(20)\n",
      "C:\\Users\\chenh\\AppData\\Local\\Temp\\ipykernel_24228\\1635236919.py:4: FutureWarning: The default dtype for empty Series will be 'object' instead of 'float64' in a future version. Specify a dtype explicitly to silence this warning.\n",
      "  category_counts = business['categories'].apply(pd.Series).stack().reset_index(drop=True).value_counts().head(20)\n",
      "C:\\Users\\chenh\\AppData\\Local\\Temp\\ipykernel_24228\\1635236919.py:4: FutureWarning: The default dtype for empty Series will be 'object' instead of 'float64' in a future version. Specify a dtype explicitly to silence this warning.\n",
      "  category_counts = business['categories'].apply(pd.Series).stack().reset_index(drop=True).value_counts().head(20)\n",
      "C:\\Users\\chenh\\AppData\\Local\\Temp\\ipykernel_24228\\1635236919.py:4: FutureWarning: The default dtype for empty Series will be 'object' instead of 'float64' in a future version. Specify a dtype explicitly to silence this warning.\n",
      "  category_counts = business['categories'].apply(pd.Series).stack().reset_index(drop=True).value_counts().head(20)\n",
      "C:\\Users\\chenh\\AppData\\Local\\Temp\\ipykernel_24228\\1635236919.py:4: FutureWarning: The default dtype for empty Series will be 'object' instead of 'float64' in a future version. Specify a dtype explicitly to silence this warning.\n",
      "  category_counts = business['categories'].apply(pd.Series).stack().reset_index(drop=True).value_counts().head(20)\n",
      "C:\\Users\\chenh\\AppData\\Local\\Temp\\ipykernel_24228\\1635236919.py:4: FutureWarning: The default dtype for empty Series will be 'object' instead of 'float64' in a future version. Specify a dtype explicitly to silence this warning.\n",
      "  category_counts = business['categories'].apply(pd.Series).stack().reset_index(drop=True).value_counts().head(20)\n",
      "C:\\Users\\chenh\\AppData\\Local\\Temp\\ipykernel_24228\\1635236919.py:4: FutureWarning: The default dtype for empty Series will be 'object' instead of 'float64' in a future version. Specify a dtype explicitly to silence this warning.\n",
      "  category_counts = business['categories'].apply(pd.Series).stack().reset_index(drop=True).value_counts().head(20)\n",
      "C:\\Users\\chenh\\AppData\\Local\\Temp\\ipykernel_24228\\1635236919.py:4: FutureWarning: The default dtype for empty Series will be 'object' instead of 'float64' in a future version. Specify a dtype explicitly to silence this warning.\n",
      "  category_counts = business['categories'].apply(pd.Series).stack().reset_index(drop=True).value_counts().head(20)\n",
      "C:\\Users\\chenh\\AppData\\Local\\Temp\\ipykernel_24228\\1635236919.py:4: FutureWarning: The default dtype for empty Series will be 'object' instead of 'float64' in a future version. Specify a dtype explicitly to silence this warning.\n",
      "  category_counts = business['categories'].apply(pd.Series).stack().reset_index(drop=True).value_counts().head(20)\n",
      "C:\\Users\\chenh\\AppData\\Local\\Temp\\ipykernel_24228\\1635236919.py:4: FutureWarning: The default dtype for empty Series will be 'object' instead of 'float64' in a future version. Specify a dtype explicitly to silence this warning.\n",
      "  category_counts = business['categories'].apply(pd.Series).stack().reset_index(drop=True).value_counts().head(20)\n",
      "C:\\Users\\chenh\\AppData\\Local\\Temp\\ipykernel_24228\\1635236919.py:4: FutureWarning: The default dtype for empty Series will be 'object' instead of 'float64' in a future version. Specify a dtype explicitly to silence this warning.\n",
      "  category_counts = business['categories'].apply(pd.Series).stack().reset_index(drop=True).value_counts().head(20)\n",
      "C:\\Users\\chenh\\AppData\\Local\\Temp\\ipykernel_24228\\1635236919.py:4: FutureWarning: The default dtype for empty Series will be 'object' instead of 'float64' in a future version. Specify a dtype explicitly to silence this warning.\n",
      "  category_counts = business['categories'].apply(pd.Series).stack().reset_index(drop=True).value_counts().head(20)\n",
      "C:\\Users\\chenh\\AppData\\Local\\Temp\\ipykernel_24228\\1635236919.py:4: FutureWarning: The default dtype for empty Series will be 'object' instead of 'float64' in a future version. Specify a dtype explicitly to silence this warning.\n",
      "  category_counts = business['categories'].apply(pd.Series).stack().reset_index(drop=True).value_counts().head(20)\n",
      "C:\\Users\\chenh\\AppData\\Local\\Temp\\ipykernel_24228\\1635236919.py:4: FutureWarning: The default dtype for empty Series will be 'object' instead of 'float64' in a future version. Specify a dtype explicitly to silence this warning.\n",
      "  category_counts = business['categories'].apply(pd.Series).stack().reset_index(drop=True).value_counts().head(20)\n",
      "C:\\Users\\chenh\\AppData\\Local\\Temp\\ipykernel_24228\\1635236919.py:4: FutureWarning: The default dtype for empty Series will be 'object' instead of 'float64' in a future version. Specify a dtype explicitly to silence this warning.\n",
      "  category_counts = business['categories'].apply(pd.Series).stack().reset_index(drop=True).value_counts().head(20)\n",
      "C:\\Users\\chenh\\AppData\\Local\\Temp\\ipykernel_24228\\1635236919.py:4: FutureWarning: The default dtype for empty Series will be 'object' instead of 'float64' in a future version. Specify a dtype explicitly to silence this warning.\n",
      "  category_counts = business['categories'].apply(pd.Series).stack().reset_index(drop=True).value_counts().head(20)\n",
      "C:\\Users\\chenh\\AppData\\Local\\Temp\\ipykernel_24228\\1635236919.py:4: FutureWarning: The default dtype for empty Series will be 'object' instead of 'float64' in a future version. Specify a dtype explicitly to silence this warning.\n",
      "  category_counts = business['categories'].apply(pd.Series).stack().reset_index(drop=True).value_counts().head(20)\n",
      "C:\\Users\\chenh\\AppData\\Local\\Temp\\ipykernel_24228\\1635236919.py:4: FutureWarning: The default dtype for empty Series will be 'object' instead of 'float64' in a future version. Specify a dtype explicitly to silence this warning.\n",
      "  category_counts = business['categories'].apply(pd.Series).stack().reset_index(drop=True).value_counts().head(20)\n",
      "C:\\Users\\chenh\\AppData\\Local\\Temp\\ipykernel_24228\\1635236919.py:4: FutureWarning: The default dtype for empty Series will be 'object' instead of 'float64' in a future version. Specify a dtype explicitly to silence this warning.\n",
      "  category_counts = business['categories'].apply(pd.Series).stack().reset_index(drop=True).value_counts().head(20)\n",
      "C:\\Users\\chenh\\AppData\\Local\\Temp\\ipykernel_24228\\1635236919.py:4: FutureWarning: The default dtype for empty Series will be 'object' instead of 'float64' in a future version. Specify a dtype explicitly to silence this warning.\n",
      "  category_counts = business['categories'].apply(pd.Series).stack().reset_index(drop=True).value_counts().head(20)\n",
      "C:\\Users\\chenh\\AppData\\Local\\Temp\\ipykernel_24228\\1635236919.py:4: FutureWarning: The default dtype for empty Series will be 'object' instead of 'float64' in a future version. Specify a dtype explicitly to silence this warning.\n",
      "  category_counts = business['categories'].apply(pd.Series).stack().reset_index(drop=True).value_counts().head(20)\n",
      "C:\\Users\\chenh\\AppData\\Local\\Temp\\ipykernel_24228\\1635236919.py:4: FutureWarning: The default dtype for empty Series will be 'object' instead of 'float64' in a future version. Specify a dtype explicitly to silence this warning.\n",
      "  category_counts = business['categories'].apply(pd.Series).stack().reset_index(drop=True).value_counts().head(20)\n",
      "C:\\Users\\chenh\\AppData\\Local\\Temp\\ipykernel_24228\\1635236919.py:4: FutureWarning: The default dtype for empty Series will be 'object' instead of 'float64' in a future version. Specify a dtype explicitly to silence this warning.\n",
      "  category_counts = business['categories'].apply(pd.Series).stack().reset_index(drop=True).value_counts().head(20)\n",
      "C:\\Users\\chenh\\AppData\\Local\\Temp\\ipykernel_24228\\1635236919.py:4: FutureWarning: The default dtype for empty Series will be 'object' instead of 'float64' in a future version. Specify a dtype explicitly to silence this warning.\n",
      "  category_counts = business['categories'].apply(pd.Series).stack().reset_index(drop=True).value_counts().head(20)\n",
      "C:\\Users\\chenh\\AppData\\Local\\Temp\\ipykernel_24228\\1635236919.py:4: FutureWarning: The default dtype for empty Series will be 'object' instead of 'float64' in a future version. Specify a dtype explicitly to silence this warning.\n",
      "  category_counts = business['categories'].apply(pd.Series).stack().reset_index(drop=True).value_counts().head(20)\n",
      "C:\\Users\\chenh\\AppData\\Local\\Temp\\ipykernel_24228\\1635236919.py:4: FutureWarning: The default dtype for empty Series will be 'object' instead of 'float64' in a future version. Specify a dtype explicitly to silence this warning.\n",
      "  category_counts = business['categories'].apply(pd.Series).stack().reset_index(drop=True).value_counts().head(20)\n",
      "C:\\Users\\chenh\\AppData\\Local\\Temp\\ipykernel_24228\\1635236919.py:4: FutureWarning: The default dtype for empty Series will be 'object' instead of 'float64' in a future version. Specify a dtype explicitly to silence this warning.\n",
      "  category_counts = business['categories'].apply(pd.Series).stack().reset_index(drop=True).value_counts().head(20)\n",
      "C:\\Users\\chenh\\AppData\\Local\\Temp\\ipykernel_24228\\1635236919.py:4: FutureWarning: The default dtype for empty Series will be 'object' instead of 'float64' in a future version. Specify a dtype explicitly to silence this warning.\n",
      "  category_counts = business['categories'].apply(pd.Series).stack().reset_index(drop=True).value_counts().head(20)\n",
      "C:\\Users\\chenh\\AppData\\Local\\Temp\\ipykernel_24228\\1635236919.py:4: FutureWarning: The default dtype for empty Series will be 'object' instead of 'float64' in a future version. Specify a dtype explicitly to silence this warning.\n",
      "  category_counts = business['categories'].apply(pd.Series).stack().reset_index(drop=True).value_counts().head(20)\n",
      "C:\\Users\\chenh\\AppData\\Local\\Temp\\ipykernel_24228\\1635236919.py:4: FutureWarning: The default dtype for empty Series will be 'object' instead of 'float64' in a future version. Specify a dtype explicitly to silence this warning.\n",
      "  category_counts = business['categories'].apply(pd.Series).stack().reset_index(drop=True).value_counts().head(20)\n",
      "C:\\Users\\chenh\\AppData\\Local\\Temp\\ipykernel_24228\\1635236919.py:4: FutureWarning: The default dtype for empty Series will be 'object' instead of 'float64' in a future version. Specify a dtype explicitly to silence this warning.\n",
      "  category_counts = business['categories'].apply(pd.Series).stack().reset_index(drop=True).value_counts().head(20)\n",
      "C:\\Users\\chenh\\AppData\\Local\\Temp\\ipykernel_24228\\1635236919.py:4: FutureWarning: The default dtype for empty Series will be 'object' instead of 'float64' in a future version. Specify a dtype explicitly to silence this warning.\n",
      "  category_counts = business['categories'].apply(pd.Series).stack().reset_index(drop=True).value_counts().head(20)\n",
      "C:\\Users\\chenh\\AppData\\Local\\Temp\\ipykernel_24228\\1635236919.py:4: FutureWarning: The default dtype for empty Series will be 'object' instead of 'float64' in a future version. Specify a dtype explicitly to silence this warning.\n",
      "  category_counts = business['categories'].apply(pd.Series).stack().reset_index(drop=True).value_counts().head(20)\n",
      "C:\\Users\\chenh\\AppData\\Local\\Temp\\ipykernel_24228\\1635236919.py:4: FutureWarning: The default dtype for empty Series will be 'object' instead of 'float64' in a future version. Specify a dtype explicitly to silence this warning.\n",
      "  category_counts = business['categories'].apply(pd.Series).stack().reset_index(drop=True).value_counts().head(20)\n",
      "C:\\Users\\chenh\\AppData\\Local\\Temp\\ipykernel_24228\\1635236919.py:4: FutureWarning: The default dtype for empty Series will be 'object' instead of 'float64' in a future version. Specify a dtype explicitly to silence this warning.\n",
      "  category_counts = business['categories'].apply(pd.Series).stack().reset_index(drop=True).value_counts().head(20)\n",
      "C:\\Users\\chenh\\AppData\\Local\\Temp\\ipykernel_24228\\1635236919.py:4: FutureWarning: The default dtype for empty Series will be 'object' instead of 'float64' in a future version. Specify a dtype explicitly to silence this warning.\n",
      "  category_counts = business['categories'].apply(pd.Series).stack().reset_index(drop=True).value_counts().head(20)\n",
      "C:\\Users\\chenh\\AppData\\Local\\Temp\\ipykernel_24228\\1635236919.py:4: FutureWarning: The default dtype for empty Series will be 'object' instead of 'float64' in a future version. Specify a dtype explicitly to silence this warning.\n",
      "  category_counts = business['categories'].apply(pd.Series).stack().reset_index(drop=True).value_counts().head(20)\n",
      "C:\\Users\\chenh\\AppData\\Local\\Temp\\ipykernel_24228\\1635236919.py:4: FutureWarning: The default dtype for empty Series will be 'object' instead of 'float64' in a future version. Specify a dtype explicitly to silence this warning.\n",
      "  category_counts = business['categories'].apply(pd.Series).stack().reset_index(drop=True).value_counts().head(20)\n",
      "C:\\Users\\chenh\\AppData\\Local\\Temp\\ipykernel_24228\\1635236919.py:4: FutureWarning: The default dtype for empty Series will be 'object' instead of 'float64' in a future version. Specify a dtype explicitly to silence this warning.\n",
      "  category_counts = business['categories'].apply(pd.Series).stack().reset_index(drop=True).value_counts().head(20)\n",
      "C:\\Users\\chenh\\AppData\\Local\\Temp\\ipykernel_24228\\1635236919.py:4: FutureWarning: The default dtype for empty Series will be 'object' instead of 'float64' in a future version. Specify a dtype explicitly to silence this warning.\n",
      "  category_counts = business['categories'].apply(pd.Series).stack().reset_index(drop=True).value_counts().head(20)\n",
      "C:\\Users\\chenh\\AppData\\Local\\Temp\\ipykernel_24228\\1635236919.py:4: FutureWarning: The default dtype for empty Series will be 'object' instead of 'float64' in a future version. Specify a dtype explicitly to silence this warning.\n",
      "  category_counts = business['categories'].apply(pd.Series).stack().reset_index(drop=True).value_counts().head(20)\n",
      "C:\\Users\\chenh\\AppData\\Local\\Temp\\ipykernel_24228\\1635236919.py:4: FutureWarning: The default dtype for empty Series will be 'object' instead of 'float64' in a future version. Specify a dtype explicitly to silence this warning.\n",
      "  category_counts = business['categories'].apply(pd.Series).stack().reset_index(drop=True).value_counts().head(20)\n",
      "C:\\Users\\chenh\\AppData\\Local\\Temp\\ipykernel_24228\\1635236919.py:4: FutureWarning: The default dtype for empty Series will be 'object' instead of 'float64' in a future version. Specify a dtype explicitly to silence this warning.\n",
      "  category_counts = business['categories'].apply(pd.Series).stack().reset_index(drop=True).value_counts().head(20)\n",
      "C:\\Users\\chenh\\AppData\\Local\\Temp\\ipykernel_24228\\1635236919.py:4: FutureWarning: The default dtype for empty Series will be 'object' instead of 'float64' in a future version. Specify a dtype explicitly to silence this warning.\n",
      "  category_counts = business['categories'].apply(pd.Series).stack().reset_index(drop=True).value_counts().head(20)\n",
      "C:\\Users\\chenh\\AppData\\Local\\Temp\\ipykernel_24228\\1635236919.py:4: FutureWarning: The default dtype for empty Series will be 'object' instead of 'float64' in a future version. Specify a dtype explicitly to silence this warning.\n",
      "  category_counts = business['categories'].apply(pd.Series).stack().reset_index(drop=True).value_counts().head(20)\n",
      "C:\\Users\\chenh\\AppData\\Local\\Temp\\ipykernel_24228\\1635236919.py:4: FutureWarning: The default dtype for empty Series will be 'object' instead of 'float64' in a future version. Specify a dtype explicitly to silence this warning.\n",
      "  category_counts = business['categories'].apply(pd.Series).stack().reset_index(drop=True).value_counts().head(20)\n",
      "C:\\Users\\chenh\\AppData\\Local\\Temp\\ipykernel_24228\\1635236919.py:4: FutureWarning: The default dtype for empty Series will be 'object' instead of 'float64' in a future version. Specify a dtype explicitly to silence this warning.\n",
      "  category_counts = business['categories'].apply(pd.Series).stack().reset_index(drop=True).value_counts().head(20)\n",
      "C:\\Users\\chenh\\AppData\\Local\\Temp\\ipykernel_24228\\1635236919.py:4: FutureWarning: The default dtype for empty Series will be 'object' instead of 'float64' in a future version. Specify a dtype explicitly to silence this warning.\n",
      "  category_counts = business['categories'].apply(pd.Series).stack().reset_index(drop=True).value_counts().head(20)\n",
      "C:\\Users\\chenh\\AppData\\Local\\Temp\\ipykernel_24228\\1635236919.py:4: FutureWarning: The default dtype for empty Series will be 'object' instead of 'float64' in a future version. Specify a dtype explicitly to silence this warning.\n",
      "  category_counts = business['categories'].apply(pd.Series).stack().reset_index(drop=True).value_counts().head(20)\n",
      "C:\\Users\\chenh\\AppData\\Local\\Temp\\ipykernel_24228\\1635236919.py:4: FutureWarning: The default dtype for empty Series will be 'object' instead of 'float64' in a future version. Specify a dtype explicitly to silence this warning.\n",
      "  category_counts = business['categories'].apply(pd.Series).stack().reset_index(drop=True).value_counts().head(20)\n",
      "C:\\Users\\chenh\\AppData\\Local\\Temp\\ipykernel_24228\\1635236919.py:4: FutureWarning: The default dtype for empty Series will be 'object' instead of 'float64' in a future version. Specify a dtype explicitly to silence this warning.\n",
      "  category_counts = business['categories'].apply(pd.Series).stack().reset_index(drop=True).value_counts().head(20)\n"
     ]
    }
   ],
   "source": [
    "# task: count the frequency of each item in categories and keep the top twenty\n",
    "# hint: the latter can be done by passing an argument to the head method\n",
    "# assign the result to the variable category_counts - one line of code here:\n",
    "category_counts = business['categories'].apply(pd.Series).stack().reset_index(drop=True).value_counts().head(20)"
   ]
  },
  {
   "cell_type": "markdown",
   "metadata": {},
   "source": [
    "Now we introduce you to a new kind of plot: a bar plot. This gives us a nice visual representation of the frequency of the top 20 categories."
   ]
  },
  {
   "cell_type": "code",
   "execution_count": 21,
   "metadata": {},
   "outputs": [
    {
     "data": {
      "text/plain": [
       "<AxesSubplot:>"
      ]
     },
     "execution_count": 21,
     "metadata": {},
     "output_type": "execute_result"
    },
    {
     "data": {
      "image/png": "[encoded data removed]",
      "text/plain": [
       "<Figure size 432x288 with 1 Axes>"
      ]
     },
     "metadata": {
      "needs_background": "light"
     },
     "output_type": "display_data"
    }
   ],
   "source": [
    "category_counts.plot(kind='bar')"
   ]
  },
  {
   "cell_type": "markdown",
   "metadata": {},
   "source": [
    "This has given us our first surprise. Our dataset contains more than just our desired industry (Restaurants). Someone hasn't thought to give us just the data we wanted. Over time this will surprise you less and less. In fact, as a data scientist, you'll become surprised when someone gives you a clean dataset containing only the data you wanted! Restaurants do seem to be our most frequent type of business, but represent fewer than 60,000 out of our original 188,000 businesses. We now figure we want to filter and keep just those businesses that have 'Restaurant' in their categories entry.\n",
    "\n"
   ]
  },
  {
   "cell_type": "markdown",
   "metadata": {},
   "source": [
    "Before we start filtering on categories, however, remember we noticed early on that there were fewer non-null categories than there were business_id? How many null (missing) categories are there?"
   ]
  },
  {
   "cell_type": "code",
   "execution_count": 22,
   "metadata": {},
   "outputs": [
    {
     "data": {
      "text/plain": [
       "103"
      ]
     },
     "execution_count": 22,
     "metadata": {},
     "output_type": "execute_result"
    }
   ],
   "source": [
    "pd.isna(business['categories']).sum()"
   ]
  },
  {
   "cell_type": "markdown",
   "metadata": {},
   "source": [
    "There are 541 business_id that have no category associated with them. Clearly these are not much use to us. First, we will have a quick look at the first few of them to check"
   ]
  },
  {
   "cell_type": "code",
   "execution_count": 23,
   "metadata": {},
   "outputs": [
    {
     "data": {
      "text/html": [
       "<div>\n",
       "<style scoped>\n",
       "    .dataframe tbody tr th:only-of-type {\n",
       "        vertical-align: middle;\n",
       "    }\n",
       "\n",
       "    .dataframe tbody tr th {\n",
       "        vertical-align: top;\n",
       "    }\n",
       "\n",
       "    .dataframe thead th {\n",
       "        text-align: right;\n",
       "    }\n",
       "</style>\n",
       "<table border=\"1\" class=\"dataframe\">\n",
       "  <thead>\n",
       "    <tr style=\"text-align: right;\">\n",
       "      <th></th>\n",
       "      <th>business_id</th>\n",
       "      <th>city</th>\n",
       "      <th>state</th>\n",
       "      <th>stars</th>\n",
       "      <th>review_count</th>\n",
       "      <th>categories</th>\n",
       "    </tr>\n",
       "  </thead>\n",
       "  <tbody>\n",
       "    <tr>\n",
       "      <th>1917</th>\n",
       "      <td>SMYXOLPyM95JvZ-oqnsWUA</td>\n",
       "      <td>Berlin</td>\n",
       "      <td>NJ</td>\n",
       "      <td>3.0</td>\n",
       "      <td>5</td>\n",
       "      <td>None</td>\n",
       "    </tr>\n",
       "    <tr>\n",
       "      <th>2243</th>\n",
       "      <td>9ryVeDaaR-le3kiSayTGow</td>\n",
       "      <td>Saint Ann</td>\n",
       "      <td>MO</td>\n",
       "      <td>1.0</td>\n",
       "      <td>5</td>\n",
       "      <td>None</td>\n",
       "    </tr>\n",
       "    <tr>\n",
       "      <th>3304</th>\n",
       "      <td>xT3J-SP5g49g2FjQfLEQfg</td>\n",
       "      <td>Reno</td>\n",
       "      <td>NV</td>\n",
       "      <td>2.0</td>\n",
       "      <td>5</td>\n",
       "      <td>None</td>\n",
       "    </tr>\n",
       "    <tr>\n",
       "      <th>3324</th>\n",
       "      <td>_obl2-rphXvtzP3y_ekV1Q</td>\n",
       "      <td>Saint Petersburg</td>\n",
       "      <td>FL</td>\n",
       "      <td>1.0</td>\n",
       "      <td>7</td>\n",
       "      <td>None</td>\n",
       "    </tr>\n",
       "    <tr>\n",
       "      <th>4640</th>\n",
       "      <td>mKxCNYEoKt6d_1rXmvRwww</td>\n",
       "      <td>Saint Charles</td>\n",
       "      <td>MO</td>\n",
       "      <td>1.5</td>\n",
       "      <td>5</td>\n",
       "      <td>None</td>\n",
       "    </tr>\n",
       "  </tbody>\n",
       "</table>\n",
       "</div>"
      ],
      "text/plain": [
       "                 business_id              city state  stars  review_count  \\\n",
       "1917  SMYXOLPyM95JvZ-oqnsWUA            Berlin    NJ    3.0             5   \n",
       "2243  9ryVeDaaR-le3kiSayTGow         Saint Ann    MO    1.0             5   \n",
       "3304  xT3J-SP5g49g2FjQfLEQfg              Reno    NV    2.0             5   \n",
       "3324  _obl2-rphXvtzP3y_ekV1Q  Saint Petersburg    FL    1.0             7   \n",
       "4640  mKxCNYEoKt6d_1rXmvRwww     Saint Charles    MO    1.5             5   \n",
       "\n",
       "     categories  \n",
       "1917       None  \n",
       "2243       None  \n",
       "3304       None  \n",
       "3324       None  \n",
       "4640       None  "
      ]
     },
     "execution_count": 23,
     "metadata": {},
     "output_type": "execute_result"
    }
   ],
   "source": [
    "business.loc[pd.isna(business['categories'])].head()"
   ]
  },
  {
   "cell_type": "markdown",
   "metadata": {},
   "source": [
    "Sure enough there is no information in the categories column for these businesses. Go ahead and remove these 541 rows from the DataFrame. Assign the result back to the original DataFrame."
   ]
  },
  {
   "cell_type": "code",
   "execution_count": 24,
   "metadata": {},
   "outputs": [],
   "source": [
    "# hint, the opposite of pd.isna() is ~pd.isna()\n",
    "# one line of code here, assigning the result back to business\n",
    "business = business.loc[~pd.isna(business['categories'])]"
   ]
  },
  {
   "cell_type": "markdown",
   "metadata": {},
   "source": [
    "Remember how you filtered our pet owner survey to select just dog owners? Now you're going to filter our business DataFrame to keep just those rows (businesses) that are restaurants. You'll do this in exactly the same way you did when testing whether 'dog' was in the list, although you'll keep all columns, not calculate a summary statistic, and will overwrite the original business DataFrame. Remember, we have a nice tidy list of categories now."
   ]
  },
  {
   "cell_type": "code",
   "execution_count": 25,
   "metadata": {},
   "outputs": [],
   "source": [
    "business = business.loc[business['categories'].apply(lambda x: 'Restaurants' in x), :]"
   ]
  },
  {
   "cell_type": "code",
   "execution_count": 26,
   "metadata": {},
   "outputs": [
    {
     "data": {
      "text/plain": [
       "(52268, 6)"
      ]
     },
     "execution_count": 26,
     "metadata": {},
     "output_type": "execute_result"
    }
   ],
   "source": [
    "business.shape"
   ]
  },
  {
   "cell_type": "markdown",
   "metadata": {},
   "source": [
    "And now we can count the different categories for what should now just be restaurants"
   ]
  },
  {
   "cell_type": "code",
   "execution_count": 27,
   "metadata": {},
   "outputs": [],
   "source": [
    "restaurant_category_counts = business['categories'].apply(pd.Series).stack().reset_index(drop=True).value_counts().head(20)"
   ]
  },
  {
   "cell_type": "code",
   "execution_count": 28,
   "metadata": {},
   "outputs": [
    {
     "data": {
      "text/plain": [
       "Restaurants    52268\n",
       "Food           15472\n",
       "Nightlife       8723\n",
       "Sandwiches      8366\n",
       "Bars            8337\n",
       "dtype: int64"
      ]
     },
     "execution_count": 28,
     "metadata": {},
     "output_type": "execute_result"
    }
   ],
   "source": [
    "restaurant_category_counts.head()"
   ]
  },
  {
   "cell_type": "code",
   "execution_count": 29,
   "metadata": {},
   "outputs": [
    {
     "data": {
      "text/plain": [
       "<AxesSubplot:>"
      ]
     },
     "execution_count": 29,
     "metadata": {},
     "output_type": "execute_result"
    },
    {
     "data": {
      "image/png": "[encoded data removed]",
      "text/plain": [
       "<Figure size 432x288 with 1 Axes>"
      ]
     },
     "metadata": {
      "needs_background": "light"
     },
     "output_type": "display_data"
    }
   ],
   "source": [
    "# 'Restaurants', of course, is our most frequent entry because, by definition, it is\n",
    "# present in every case! Plot a bar chart now of the frequencies of the other values.\n",
    "restaurant_category_counts[1:].plot(kind='bar')"
   ]
  },
  {
   "cell_type": "markdown",
   "metadata": {},
   "source": [
    "We see we still have a few noise categories coming in, such as 'Food' and 'Nightlife'. But we can see that Pizza restaurants would seem to be a good bet for our marketing campaign trial! However, we also notice that Italian is pretty close behind, and using our domain knowledge, we figure that we'll use businesses that mention either Pizza or Italian."
   ]
  },
  {
   "cell_type": "markdown",
   "metadata": {},
   "source": [
    "## Save desired business ID to file\n",
    "Now it's time to create the final list of the business IDs we're interested in. These are (Restaurant) businesses that have either 'Italian' or 'Pizza' in their categories column."
   ]
  },
  {
   "cell_type": "code",
   "execution_count": 35,
   "metadata": {},
   "outputs": [],
   "source": [
    "# task use a lambda function on the categories column again, but now you're not testing for\n",
    "# 'Restaurant' but either 'Pizza or 'Italian'\n",
    "# assign the result to italian_pizza (one line of code)\n",
    "italian_pizza = business.loc[business['categories'].apply(lambda x: ('Pizza' in x)|('Italian' in x)),:]"
   ]
  },
  {
   "cell_type": "code",
   "execution_count": 36,
   "metadata": {},
   "outputs": [
    {
     "data": {
      "text/html": [
       "<div>\n",
       "<style scoped>\n",
       "    .dataframe tbody tr th:only-of-type {\n",
       "        vertical-align: middle;\n",
       "    }\n",
       "\n",
       "    .dataframe tbody tr th {\n",
       "        vertical-align: top;\n",
       "    }\n",
       "\n",
       "    .dataframe thead th {\n",
       "        text-align: right;\n",
       "    }\n",
       "</style>\n",
       "<table border=\"1\" class=\"dataframe\">\n",
       "  <thead>\n",
       "    <tr style=\"text-align: right;\">\n",
       "      <th></th>\n",
       "      <th>business_id</th>\n",
       "      <th>city</th>\n",
       "      <th>state</th>\n",
       "      <th>stars</th>\n",
       "      <th>review_count</th>\n",
       "      <th>categories</th>\n",
       "    </tr>\n",
       "  </thead>\n",
       "  <tbody>\n",
       "    <tr>\n",
       "      <th>8</th>\n",
       "      <td>k0hlBqXX-Bt0vf1op7Jr1w</td>\n",
       "      <td>Affton</td>\n",
       "      <td>MO</td>\n",
       "      <td>3.0</td>\n",
       "      <td>19</td>\n",
       "      <td>[Pubs, Restaurants, Italian, Bars, American (T...</td>\n",
       "    </tr>\n",
       "    <tr>\n",
       "      <th>14</th>\n",
       "      <td>0bPLkL0QhhPO5kt1_EXmNQ</td>\n",
       "      <td>Largo</td>\n",
       "      <td>FL</td>\n",
       "      <td>4.5</td>\n",
       "      <td>100</td>\n",
       "      <td>[Food, Delis, Italian, Bakeries, Restaurants]</td>\n",
       "    </tr>\n",
       "    <tr>\n",
       "      <th>23</th>\n",
       "      <td>9OG5YkX1g2GReZM0AskizA</td>\n",
       "      <td>Reno</td>\n",
       "      <td>NV</td>\n",
       "      <td>2.5</td>\n",
       "      <td>339</td>\n",
       "      <td>[Restaurants, Italian]</td>\n",
       "    </tr>\n",
       "    <tr>\n",
       "      <th>28</th>\n",
       "      <td>QdN72BWoyFypdGJhhI5r7g</td>\n",
       "      <td>Philadelphia</td>\n",
       "      <td>PA</td>\n",
       "      <td>4.0</td>\n",
       "      <td>65</td>\n",
       "      <td>[Cocktail Bars, Bars, Italian, Nightlife, Rest...</td>\n",
       "    </tr>\n",
       "    <tr>\n",
       "      <th>29</th>\n",
       "      <td>sqSqqLy0sN8n2IZrAbzidQ</td>\n",
       "      <td>White House</td>\n",
       "      <td>TN</td>\n",
       "      <td>3.5</td>\n",
       "      <td>8</td>\n",
       "      <td>[Pizza, Chicken Wings, Sandwiches, Restaurants]</td>\n",
       "    </tr>\n",
       "  </tbody>\n",
       "</table>\n",
       "</div>"
      ],
      "text/plain": [
       "               business_id          city state  stars  review_count  \\\n",
       "8   k0hlBqXX-Bt0vf1op7Jr1w        Affton    MO    3.0            19   \n",
       "14  0bPLkL0QhhPO5kt1_EXmNQ         Largo    FL    4.5           100   \n",
       "23  9OG5YkX1g2GReZM0AskizA          Reno    NV    2.5           339   \n",
       "28  QdN72BWoyFypdGJhhI5r7g  Philadelphia    PA    4.0            65   \n",
       "29  sqSqqLy0sN8n2IZrAbzidQ   White House    TN    3.5             8   \n",
       "\n",
       "                                           categories  \n",
       "8   [Pubs, Restaurants, Italian, Bars, American (T...  \n",
       "14      [Food, Delis, Italian, Bakeries, Restaurants]  \n",
       "23                             [Restaurants, Italian]  \n",
       "28  [Cocktail Bars, Bars, Italian, Nightlife, Rest...  \n",
       "29    [Pizza, Chicken Wings, Sandwiches, Restaurants]  "
      ]
     },
     "execution_count": 36,
     "metadata": {},
     "output_type": "execute_result"
    }
   ],
   "source": [
    "italian_pizza.head()"
   ]
  },
  {
   "cell_type": "code",
   "execution_count": 37,
   "metadata": {},
   "outputs": [
    {
     "data": {
      "text/plain": [
       "(9068, 6)"
      ]
     },
     "execution_count": 37,
     "metadata": {},
     "output_type": "execute_result"
    }
   ],
   "source": [
    "# Check the shape of the DataFrame\n",
    "italian_pizza.shape"
   ]
  },
  {
   "cell_type": "code",
   "execution_count": 40,
   "metadata": {},
   "outputs": [],
   "source": [
    "# task: use panda's to_csv DataFrame method to save the result to a file\n",
    "# use the index argument to suppress saving the index\n",
    "# use the columns argument to save only the business_id, review_count, stars, and state columns\n",
    "# one line of code here\n",
    "italian_pizza.to_csv('business_list.csv', columns=['business_id', 'review_count', 'stars', 'state'], index=False)"
   ]
  },
  {
   "cell_type": "markdown",
   "metadata": {},
   "source": [
    "# Summary\n",
    "Well done. You've done some pretty impressive data wrangling and some exploratory data analysis. You've read in some data and extracted a list of categories from one column, which is a pretty tricky thing to do! You've then explored the data and discovered a popular type of cuisine, then used that to extract just the relevant business IDs so you can use them as a key in your next step."
   ]
  }
 ],
 "metadata": {
  "kernelspec": {
   "display_name": "Python 3 (ipykernel)",
   "language": "python",
   "name": "python3"
  },
  "language_info": {
   "codemirror_mode": {
    "name": "ipython",
    "version": 3
   },
   "file_extension": ".py",
   "mimetype": "text/x-python",
   "name": "python",
   "nbconvert_exporter": "python",
   "pygments_lexer": "ipython3",
   "version": "3.9.12"
  }
 },
 "nbformat": 4,
 "nbformat_minor": 4
}

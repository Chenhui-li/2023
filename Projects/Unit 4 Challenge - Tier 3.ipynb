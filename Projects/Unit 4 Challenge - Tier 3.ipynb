{
 "cells": [
  {
   "cell_type": "markdown",
   "metadata": {
    "colab_type": "text",
    "id": "Tia3MP1SJpgj",
    "tags": []
   },
   "source": [
    "# Springboard Data Science Career Track Unit 4 Challenge - Tier 3 Complete\n",
    "\n",
    "## Objectives\n",
    "Hey! Great job getting through those challenging DataCamp courses. You're learning a lot in a short span of time. \n",
    "\n",
    "In this notebook, you're going to apply the skills you've been learning, bridging the gap between the controlled environment of DataCamp and the *slightly* messier work that data scientists do with actual datasets!\n",
    "\n",
    "Here’s the mystery we’re going to solve: ***which boroughs of London have seen the greatest increase in housing prices, on average, over the last two decades?***\n",
    "\n",
    "\n",
    "A borough is just a fancy word for district. You may be familiar with the five boroughs of New York… well, there are 32 boroughs within Greater London [(here's some info for the curious)](https://en.wikipedia.org/wiki/London_boroughs). Some of them are more desirable areas to live in, and the data will reflect that with a greater rise in housing prices.\n",
    "\n",
    "***This is the Tier 3 notebook, which means it's not filled in at all: we'll just give you the skeleton of a project, the brief and the data. It's up to you to play around with it and see what you can find out! Good luck! If you struggle, feel free to look at easier tiers for help; but try to dip in and out of them, as the more independent work you do, the better it is for your learning!***\n",
    "\n",
    "This challenge will make use of only what you learned in the following DataCamp courses: \n",
    "- Prework courses (Introduction to Python for Data Science, Intermediate Python for Data Science)\n",
    "- Data Types for Data Science\n",
    "- Python Data Science Toolbox (Part One) \n",
    "- pandas Foundations\n",
    "- Manipulating DataFrames with pandas\n",
    "- Merging DataFrames with pandas\n",
    "\n",
    "Of the tools, techniques and concepts in the above DataCamp courses, this challenge should require the application of the following: \n",
    "- **pandas**\n",
    "    - **data ingestion and inspection** (pandas Foundations, Module One) \n",
    "    - **exploratory data analysis** (pandas Foundations, Module Two)\n",
    "    - **tidying and cleaning** (Manipulating DataFrames with pandas, Module Three) \n",
    "    - **transforming DataFrames** (Manipulating DataFrames with pandas, Module One)\n",
    "    - **subsetting DataFrames with lists** (Manipulating DataFrames with pandas, Module One) \n",
    "    - **filtering DataFrames** (Manipulating DataFrames with pandas, Module One) \n",
    "    - **grouping data** (Manipulating DataFrames with pandas, Module Four) \n",
    "    - **melting data** (Manipulating DataFrames with pandas, Module Three) \n",
    "    - **advanced indexing** (Manipulating DataFrames with pandas, Module Four) \n",
    "- **matplotlib** (Intermediate Python for Data Science, Module One)\n",
    "- **fundamental data types** (Data Types for Data Science, Module One) \n",
    "- **dictionaries** (Intermediate Python for Data Science, Module Two)\n",
    "- **handling dates and times** (Data Types for Data Science, Module Four)\n",
    "- **function definition** (Python Data Science Toolbox - Part One, Module One)\n",
    "- **default arguments, variable length, and scope** (Python Data Science Toolbox - Part One, Module Two) \n",
    "- **lambda functions and error handling** (Python Data Science Toolbox - Part One, Module Four) "
   ]
  },
  {
   "cell_type": "markdown",
   "metadata": {
    "colab_type": "text",
    "id": "Ipgd2nV8Jpgl"
   },
   "source": [
    "## The Data Science Pipeline\n",
    "\n",
    "This is Tier Three, so we'll get you started. But after that, it's all in your hands! When you feel done with your investigations, look back over what you've accomplished, and prepare a quick presentation of your findings for the next mentor meeting. \n",
    "\n",
    "Data Science is magical. In this case study, you'll get to apply some complex machine learning algorithms. But as  [David Spiegelhalter](https://www.youtube.com/watch?v=oUs1uvsz0Ok) reminds us, there is no substitute for simply **taking a really, really good look at the data.** Sometimes, this is all we need to answer our question.\n",
    "\n",
    "Data Science projects generally adhere to the four stages of Data Science Pipeline:\n",
    "1. Sourcing and loading \n",
    "2. Cleaning, transforming, and visualizing \n",
    "3. Modeling \n",
    "4. Evaluating and concluding \n"
   ]
  },
  {
   "cell_type": "markdown",
   "metadata": {
    "colab_type": "text",
    "id": "zswDqbefJpgm"
   },
   "source": [
    "### 1. Sourcing and Loading \n",
    "\n",
    "Any Data Science project kicks off by importing  ***pandas***. The documentation of this wonderful library can be found [here](https://pandas.pydata.org/). As you've seen, pandas is conveniently connected to the [Numpy](http://www.numpy.org/) and [Matplotlib](https://matplotlib.org/) libraries. \n",
    "\n",
    "***Hint:*** This part of the data science pipeline will test those skills you acquired in the pandas Foundations course, Module One. "
   ]
  },
  {
   "cell_type": "markdown",
   "metadata": {
    "colab_type": "text",
    "id": "aEau5nEvJpgm"
   },
   "source": [
    "#### 1.1. Importing Libraries"
   ]
  },
  {
   "cell_type": "code",
   "execution_count": 1,
   "metadata": {
    "colab": {},
    "colab_type": "code",
    "id": "7Bt_Q_oPJpgn"
   },
   "outputs": [],
   "source": [
    "# Let's import the pandas, numpy libraries as pd, and np respectively. \n",
    "import pandas as pd\n",
    "import numpy as np\n",
    "\n",
    "# Load the pyplot collection of functions from matplotlib, as plt \n",
    "import matplotlib.pyplot as plt"
   ]
  },
  {
   "cell_type": "markdown",
   "metadata": {
    "colab_type": "text",
    "id": "koUrawxsJpgq"
   },
   "source": [
    "#### 1.2.  Loading the data\n",
    "Your data comes from the [London Datastore](https://data.london.gov.uk/): a free, open-source data-sharing portal for London-oriented datasets. "
   ]
  },
  {
   "cell_type": "code",
   "execution_count": 2,
   "metadata": {
    "colab": {},
    "colab_type": "code",
    "id": "AiLiD4v3Jpgr"
   },
   "outputs": [],
   "source": [
    "# First, make a variable called url_LondonHousePrices, and assign it the following link, enclosed in quotation-marks as a string:\n",
    "# https://data.london.gov.uk/download/uk-house-price-index/70ac0766-8902-4eb5-aab5-01951aaed773/UK%20House%20price%20index.xls\n",
    "\n",
    "url_LondonHousePrices= \"https://data.london.gov.uk/download/uk-house-price-index/70ac0766-8902-4eb5-aab5-01951aaed773/UK%20House%20price%20index.xls\"\n",
    "\n",
    "# The dataset we're interested in contains the Average prices of the houses, and is actually on a particular sheet of the Excel file. \n",
    "# As a result, we need to specify the sheet name in the read_excel() method.\n",
    "# Put this data into a variable called properties.  \n",
    "properties = pd.read_excel(url_LondonHousePrices, sheet_name='Average price', index_col= None)"
   ]
  },
  {
   "cell_type": "markdown",
   "metadata": {
    "colab_type": "text",
    "id": "POukEJXgJpgu"
   },
   "source": [
    "### 2. Cleaning, transforming, and visualizing\n",
    "This second stage is arguably the most important part of any Data Science project. The first thing to do is take a proper look at the data. Cleaning forms the majority of this stage, and can be done both before or after Transformation.\n",
    "\n",
    "The end goal of data cleaning is to have tidy data. When data is tidy: \n",
    "\n",
    "1. Each variable has a column.\n",
    "2. Each observation forms a row.\n",
    "\n",
    "Keep the end goal in mind as you move through this process, every step will take you closer. \n",
    "\n",
    "\n",
    "\n",
    "***Hint:*** This part of the data science pipeline should test those skills you acquired in: \n",
    "- Intermediate Python for data science, all modules.\n",
    "- pandas Foundations, all modules. \n",
    "- Manipulating DataFrames with pandas, all modules.\n",
    "- Data Types for Data Science, Module Four.\n",
    "- Python Data Science Toolbox - Part One, all modules"
   ]
  },
  {
   "cell_type": "markdown",
   "metadata": {
    "colab_type": "text",
    "id": "Te0Q548tnzZa"
   },
   "source": [
    "**2.1. Exploring your data** \n",
    "\n",
    "Think about your pandas functions for checking out a dataframe. "
   ]
  },
  {
   "cell_type": "code",
   "execution_count": 3,
   "metadata": {
    "colab": {},
    "colab_type": "code",
    "id": "Rxirxw_qoAJa"
   },
   "outputs": [
    {
     "name": "stdout",
     "output_type": "stream",
     "text": [
      "  Unnamed: 0 City of London Barking & Dagenham       Barnet       Bexley  \\\n",
      "0        NaT      E09000001          E09000002    E09000003    E09000004   \n",
      "1 1995-01-01    91448.98487         50460.2266  93284.51832  64958.09036   \n",
      "2 1995-02-01    82202.77314        51085.77983  93190.16963  64787.92069   \n",
      "3 1995-03-01    79120.70256        51268.96956  92247.52435  64367.49344   \n",
      "4 1995-04-01    77101.20804        53133.50526  90762.87492  64277.66881   \n",
      "\n",
      "         Brent      Bromley       Camden      Croydon       Ealing  ...  \\\n",
      "0    E09000005    E09000006    E09000007    E09000008    E09000009  ...   \n",
      "1  71306.56698  81671.47692  120932.8881  69158.16225  79885.89069  ...   \n",
      "2  72022.26197  81657.55944  119508.8622  68951.09542  80897.06551  ...   \n",
      "3  72015.76274  81449.31143  120282.2131  68712.44341  81379.86288  ...   \n",
      "4  72965.63094  81124.41227   120097.899  68610.04641  82188.90498  ...   \n",
      "\n",
      "    NORTH WEST YORKS & THE HUMBER EAST MIDLANDS WEST MIDLANDS EAST OF ENGLAND  \\\n",
      "0    E12000002          E12000003     E12000004     E12000005       E12000006   \n",
      "1  43958.48001        44803.42878   45544.52227   48527.52339      56701.5961   \n",
      "2  43925.42289        44528.80721   46051.57066   49341.29029     56593.59475   \n",
      "3   44434.8681        45200.46775   45383.82395   49442.17973     56171.18278   \n",
      "4   44267.7796        45614.34341   46124.23045   49455.93299     56567.89582   \n",
      "\n",
      "        LONDON   SOUTH EAST   SOUTH WEST Unnamed: 47      England  \n",
      "0    E12000007    E12000008    E12000009         NaN    E92000001  \n",
      "1  74435.76052  64018.87894   54705.1579         NaN  53202.77128  \n",
      "2  72777.93709  63715.02399  54356.14843         NaN   53096.1549  \n",
      "3  73896.84204  64113.60858  53583.07667         NaN   53201.2843  \n",
      "4  74455.28754  64623.22395  54786.01938         NaN   53590.8548  \n",
      "\n",
      "[5 rows x 49 columns]\n"
     ]
    }
   ],
   "source": [
    "print(properties.head())"
   ]
  },
  {
   "cell_type": "code",
   "execution_count": 4,
   "metadata": {},
   "outputs": [
    {
     "name": "stdout",
     "output_type": "stream",
     "text": [
      "Index(['Unnamed: 0', 'City of London', 'Barking & Dagenham', 'Barnet',\n",
      "       'Bexley', 'Brent', 'Bromley', 'Camden', 'Croydon', 'Ealing', 'Enfield',\n",
      "       'Greenwich', 'Hackney', 'Hammersmith & Fulham', 'Haringey', 'Harrow',\n",
      "       'Havering', 'Hillingdon', 'Hounslow', 'Islington',\n",
      "       'Kensington & Chelsea', 'Kingston upon Thames', 'Lambeth', 'Lewisham',\n",
      "       'Merton', 'Newham', 'Redbridge', 'Richmond upon Thames', 'Southwark',\n",
      "       'Sutton', 'Tower Hamlets', 'Waltham Forest', 'Wandsworth',\n",
      "       'Westminster', 'Unnamed: 34', 'Inner London', 'Outer London',\n",
      "       'Unnamed: 37', 'NORTH EAST', 'NORTH WEST', 'YORKS & THE HUMBER',\n",
      "       'EAST MIDLANDS', 'WEST MIDLANDS', 'EAST OF ENGLAND', 'LONDON',\n",
      "       'SOUTH EAST', 'SOUTH WEST', 'Unnamed: 47', 'England'],\n",
      "      dtype='object')\n"
     ]
    }
   ],
   "source": [
    "print(properties.columns)"
   ]
  },
  {
   "cell_type": "code",
   "execution_count": 5,
   "metadata": {},
   "outputs": [
    {
     "name": "stdout",
     "output_type": "stream",
     "text": [
      "(339, 49)\n"
     ]
    }
   ],
   "source": [
    "print(properties.shape)"
   ]
  },
  {
   "cell_type": "markdown",
   "metadata": {
    "colab_type": "text",
    "id": "tE9Sqt9-oAta"
   },
   "source": [
    "**2.2. Cleaning the data**\n",
    "\n",
    "You might find you need to transpose your dataframe, check out what its row indexes are, and reset the index. You  also might find you need to assign the values of the first row to your column headings  . (Hint: recall the .columns feature of DataFrames, as well as the iloc[] method).\n",
    "\n",
    "Don't be afraid to use StackOverflow for help  with this."
   ]
  },
  {
   "cell_type": "code",
   "execution_count": 6,
   "metadata": {
    "colab": {},
    "colab_type": "code",
    "id": "cdAu1A3YoH_r"
   },
   "outputs": [],
   "source": [
    "properties_T=properties.T"
   ]
  },
  {
   "cell_type": "code",
   "execution_count": 7,
   "metadata": {},
   "outputs": [
    {
     "name": "stdout",
     "output_type": "stream",
     "text": [
      "(49, 339)\n"
     ]
    }
   ],
   "source": [
    "print(properties_T.shape)"
   ]
  },
  {
   "cell_type": "code",
   "execution_count": 8,
   "metadata": {},
   "outputs": [
    {
     "name": "stdout",
     "output_type": "stream",
     "text": [
      "                          0                    1                    2    \\\n",
      "Unnamed: 0                NaT  1995-01-01 00:00:00  1995-02-01 00:00:00   \n",
      "City of London      E09000001          91448.98487          82202.77314   \n",
      "Barking & Dagenham  E09000002           50460.2266          51085.77983   \n",
      "Barnet              E09000003          93284.51832          93190.16963   \n",
      "Bexley              E09000004          64958.09036          64787.92069   \n",
      "\n",
      "                                    3                    4    \\\n",
      "Unnamed: 0          1995-03-01 00:00:00  1995-04-01 00:00:00   \n",
      "City of London              79120.70256          77101.20804   \n",
      "Barking & Dagenham          51268.96956          53133.50526   \n",
      "Barnet                      92247.52435          90762.87492   \n",
      "Bexley                      64367.49344          64277.66881   \n",
      "\n",
      "                                    5                    6    \\\n",
      "Unnamed: 0          1995-05-01 00:00:00  1995-06-01 00:00:00   \n",
      "City of London              84409.14932          94900.51244   \n",
      "Barking & Dagenham          53042.24852          53700.34831   \n",
      "Barnet                      90258.00033          90107.23471   \n",
      "Bexley                      63997.13588          64252.32335   \n",
      "\n",
      "                                    7                    8    \\\n",
      "Unnamed: 0          1995-07-01 00:00:00  1995-08-01 00:00:00   \n",
      "City of London              110128.0423          112329.4376   \n",
      "Barking & Dagenham          52113.12157          52232.19868   \n",
      "Barnet                      91441.24768          92361.31512   \n",
      "Bexley                      63722.70055          64432.60005   \n",
      "\n",
      "                                    9    ...                  329  \\\n",
      "Unnamed: 0          1995-09-01 00:00:00  ...  2022-05-01 00:00:00   \n",
      "City of London              104473.1096  ...           795174.941   \n",
      "Barking & Dagenham          51471.61353  ...          334860.1394   \n",
      "Barnet                      93273.12245  ...          584042.5146   \n",
      "Bexley                      64509.54767  ...          385259.9068   \n",
      "\n",
      "                                    330                  331  \\\n",
      "Unnamed: 0          2022-06-01 00:00:00  2022-07-01 00:00:00   \n",
      "City of London                817653.89          823465.9092   \n",
      "Barking & Dagenham          344686.2927          348768.9455   \n",
      "Barnet                      589629.3011          590956.5544   \n",
      "Bexley                      388894.2716          394492.2897   \n",
      "\n",
      "                                    332                  333  \\\n",
      "Unnamed: 0          2022-08-01 00:00:00  2022-09-01 00:00:00   \n",
      "City of London              867266.9155          863879.8209   \n",
      "Barking & Dagenham          350456.7649          349749.4368   \n",
      "Barnet                      601802.5584          607196.4449   \n",
      "Bexley                      400778.7012           402890.116   \n",
      "\n",
      "                                    334                  335  \\\n",
      "Unnamed: 0          2022-10-01 00:00:00  2022-11-01 00:00:00   \n",
      "City of London               902309.282          958869.7855   \n",
      "Barking & Dagenham          353520.9551          356902.8691   \n",
      "Barnet                      605114.2948          596539.3541   \n",
      "Bexley                      406868.9186          405329.0206   \n",
      "\n",
      "                                    336                  337  \\\n",
      "Unnamed: 0          2022-12-01 00:00:00  2023-01-01 00:00:00   \n",
      "City of London              929060.0982          978120.5133   \n",
      "Barking & Dagenham          356645.1966          352043.1242   \n",
      "Barnet                      596637.6706          598835.4533   \n",
      "Bexley                      406858.5581          399887.1166   \n",
      "\n",
      "                                    338  \n",
      "Unnamed: 0          2023-02-01 00:00:00  \n",
      "City of London              960867.8271  \n",
      "Barking & Dagenham          344518.0012  \n",
      "Barnet                      602510.1509  \n",
      "Bexley                      399578.3604  \n",
      "\n",
      "[5 rows x 339 columns]\n"
     ]
    }
   ],
   "source": [
    "print(properties_T.head())"
   ]
  },
  {
   "cell_type": "code",
   "execution_count": 9,
   "metadata": {},
   "outputs": [
    {
     "data": {
      "text/plain": [
       "Index(['Unnamed: 0', 'City of London', 'Barking & Dagenham', 'Barnet',\n",
       "       'Bexley', 'Brent', 'Bromley', 'Camden', 'Croydon', 'Ealing', 'Enfield',\n",
       "       'Greenwich', 'Hackney', 'Hammersmith & Fulham', 'Haringey', 'Harrow',\n",
       "       'Havering', 'Hillingdon', 'Hounslow', 'Islington',\n",
       "       'Kensington & Chelsea', 'Kingston upon Thames', 'Lambeth', 'Lewisham',\n",
       "       'Merton', 'Newham', 'Redbridge', 'Richmond upon Thames', 'Southwark',\n",
       "       'Sutton', 'Tower Hamlets', 'Waltham Forest', 'Wandsworth',\n",
       "       'Westminster', 'Unnamed: 34', 'Inner London', 'Outer London',\n",
       "       'Unnamed: 37', 'NORTH EAST', 'NORTH WEST', 'YORKS & THE HUMBER',\n",
       "       'EAST MIDLANDS', 'WEST MIDLANDS', 'EAST OF ENGLAND', 'LONDON',\n",
       "       'SOUTH EAST', 'SOUTH WEST', 'Unnamed: 47', 'England'],\n",
       "      dtype='object')"
      ]
     },
     "execution_count": 9,
     "metadata": {},
     "output_type": "execute_result"
    }
   ],
   "source": [
    "properties_T.index"
   ]
  },
  {
   "cell_type": "code",
   "execution_count": 10,
   "metadata": {},
   "outputs": [],
   "source": [
    "properties_T = properties_T.reset_index()"
   ]
  },
  {
   "cell_type": "code",
   "execution_count": 11,
   "metadata": {},
   "outputs": [],
   "source": [
    "properties_T.columns = properties_T.iloc[0]\n",
    "#set column names equal to values in row index position 0"
   ]
  },
  {
   "cell_type": "code",
   "execution_count": 12,
   "metadata": {},
   "outputs": [
    {
     "name": "stdout",
     "output_type": "stream",
     "text": [
      "Index([       'Unnamed: 0',                 NaT, 1995-01-01 00:00:00,\n",
      "       1995-02-01 00:00:00, 1995-03-01 00:00:00, 1995-04-01 00:00:00,\n",
      "       1995-05-01 00:00:00, 1995-06-01 00:00:00, 1995-07-01 00:00:00,\n",
      "       1995-08-01 00:00:00,\n",
      "       ...\n",
      "       2022-05-01 00:00:00, 2022-06-01 00:00:00, 2022-07-01 00:00:00,\n",
      "       2022-08-01 00:00:00, 2022-09-01 00:00:00, 2022-10-01 00:00:00,\n",
      "       2022-11-01 00:00:00, 2022-12-01 00:00:00, 2023-01-01 00:00:00,\n",
      "       2023-02-01 00:00:00],\n",
      "      dtype='object', name=0, length=340)\n"
     ]
    }
   ],
   "source": [
    "print(properties_T.columns)"
   ]
  },
  {
   "cell_type": "code",
   "execution_count": 13,
   "metadata": {},
   "outputs": [],
   "source": [
    "properties_T = properties_T[1:] ### delete the frist date from the frist row since it used as columna names already"
   ]
  },
  {
   "cell_type": "code",
   "execution_count": 14,
   "metadata": {},
   "outputs": [
    {
     "name": "stdout",
     "output_type": "stream",
     "text": [
      "0          Unnamed: 0        NaT 1995-01-01 00:00:00 1995-02-01 00:00:00  \\\n",
      "1      City of London  E09000001         91448.98487         82202.77314   \n",
      "2  Barking & Dagenham  E09000002          50460.2266         51085.77983   \n",
      "3              Barnet  E09000003         93284.51832         93190.16963   \n",
      "4              Bexley  E09000004         64958.09036         64787.92069   \n",
      "5               Brent  E09000005         71306.56698         72022.26197   \n",
      "\n",
      "0 1995-03-01 00:00:00 1995-04-01 00:00:00 1995-05-01 00:00:00  \\\n",
      "1         79120.70256         77101.20804         84409.14932   \n",
      "2         51268.96956         53133.50526         53042.24852   \n",
      "3         92247.52435         90762.87492         90258.00033   \n",
      "4         64367.49344         64277.66881         63997.13588   \n",
      "5         72015.76274         72965.63094         73704.04743   \n",
      "\n",
      "0 1995-06-01 00:00:00 1995-07-01 00:00:00 1995-08-01 00:00:00  ...  \\\n",
      "1         94900.51244         110128.0423         112329.4376  ...   \n",
      "2         53700.34831         52113.12157         52232.19868  ...   \n",
      "3         90107.23471         91441.24768         92361.31512  ...   \n",
      "4         64252.32335         63722.70055         64432.60005  ...   \n",
      "5         74310.48167         74127.03788          73547.0411  ...   \n",
      "\n",
      "0 2022-05-01 00:00:00 2022-06-01 00:00:00 2022-07-01 00:00:00  \\\n",
      "1          795174.941           817653.89         823465.9092   \n",
      "2         334860.1394         344686.2927         348768.9455   \n",
      "3         584042.5146         589629.3011         590956.5544   \n",
      "4         385259.9068         388894.2716         394492.2897   \n",
      "5         529771.7571         532821.5739         549660.5579   \n",
      "\n",
      "0 2022-08-01 00:00:00 2022-09-01 00:00:00 2022-10-01 00:00:00  \\\n",
      "1         867266.9155         863879.8209          902309.282   \n",
      "2         350456.7649         349749.4368         353520.9551   \n",
      "3         601802.5584         607196.4449         605114.2948   \n",
      "4         400778.7012          402890.116         406868.9186   \n",
      "5         560279.3404         580872.8243         577222.7821   \n",
      "\n",
      "0 2022-11-01 00:00:00 2022-12-01 00:00:00 2023-01-01 00:00:00  \\\n",
      "1         958869.7855         929060.0982         978120.5133   \n",
      "2         356902.8691         356645.1966         352043.1242   \n",
      "3         596539.3541         596637.6706         598835.4533   \n",
      "4         405329.0206         406858.5581         399887.1166   \n",
      "5         572466.8925         564118.4765         560637.6337   \n",
      "\n",
      "0 2023-02-01 00:00:00  \n",
      "1         960867.8271  \n",
      "2         344518.0012  \n",
      "3         602510.1509  \n",
      "4         399578.3604  \n",
      "5         548074.5348  \n",
      "\n",
      "[5 rows x 340 columns]\n"
     ]
    }
   ],
   "source": [
    "print(properties_T.head())"
   ]
  },
  {
   "cell_type": "code",
   "execution_count": 15,
   "metadata": {},
   "outputs": [],
   "source": [
    "properties_T=properties_T.dropna()"
   ]
  },
  {
   "cell_type": "code",
   "execution_count": 16,
   "metadata": {},
   "outputs": [
    {
     "name": "stdout",
     "output_type": "stream",
     "text": [
      "0          Unnamed: 0        NaT 1995-01-01 00:00:00 1995-02-01 00:00:00  \\\n",
      "1      City of London  E09000001         91448.98487         82202.77314   \n",
      "2  Barking & Dagenham  E09000002          50460.2266         51085.77983   \n",
      "3              Barnet  E09000003         93284.51832         93190.16963   \n",
      "4              Bexley  E09000004         64958.09036         64787.92069   \n",
      "5               Brent  E09000005         71306.56698         72022.26197   \n",
      "\n",
      "0 1995-03-01 00:00:00 1995-04-01 00:00:00 1995-05-01 00:00:00  \\\n",
      "1         79120.70256         77101.20804         84409.14932   \n",
      "2         51268.96956         53133.50526         53042.24852   \n",
      "3         92247.52435         90762.87492         90258.00033   \n",
      "4         64367.49344         64277.66881         63997.13588   \n",
      "5         72015.76274         72965.63094         73704.04743   \n",
      "\n",
      "0 1995-06-01 00:00:00 1995-07-01 00:00:00 1995-08-01 00:00:00  ...  \\\n",
      "1         94900.51244         110128.0423         112329.4376  ...   \n",
      "2         53700.34831         52113.12157         52232.19868  ...   \n",
      "3         90107.23471         91441.24768         92361.31512  ...   \n",
      "4         64252.32335         63722.70055         64432.60005  ...   \n",
      "5         74310.48167         74127.03788          73547.0411  ...   \n",
      "\n",
      "0 2022-05-01 00:00:00 2022-06-01 00:00:00 2022-07-01 00:00:00  \\\n",
      "1          795174.941           817653.89         823465.9092   \n",
      "2         334860.1394         344686.2927         348768.9455   \n",
      "3         584042.5146         589629.3011         590956.5544   \n",
      "4         385259.9068         388894.2716         394492.2897   \n",
      "5         529771.7571         532821.5739         549660.5579   \n",
      "\n",
      "0 2022-08-01 00:00:00 2022-09-01 00:00:00 2022-10-01 00:00:00  \\\n",
      "1         867266.9155         863879.8209          902309.282   \n",
      "2         350456.7649         349749.4368         353520.9551   \n",
      "3         601802.5584         607196.4449         605114.2948   \n",
      "4         400778.7012          402890.116         406868.9186   \n",
      "5         560279.3404         580872.8243         577222.7821   \n",
      "\n",
      "0 2022-11-01 00:00:00 2022-12-01 00:00:00 2023-01-01 00:00:00  \\\n",
      "1         958869.7855         929060.0982         978120.5133   \n",
      "2         356902.8691         356645.1966         352043.1242   \n",
      "3         596539.3541         596637.6706         598835.4533   \n",
      "4         405329.0206         406858.5581         399887.1166   \n",
      "5         572466.8925         564118.4765         560637.6337   \n",
      "\n",
      "0 2023-02-01 00:00:00  \n",
      "1         960867.8271  \n",
      "2         344518.0012  \n",
      "3         602510.1509  \n",
      "4         399578.3604  \n",
      "5         548074.5348  \n",
      "\n",
      "[5 rows x 340 columns]\n"
     ]
    }
   ],
   "source": [
    "print(properties_T.head())"
   ]
  },
  {
   "cell_type": "markdown",
   "metadata": {
    "colab_type": "text",
    "id": "o1uLbJAsoIjK"
   },
   "source": [
    "**2.3. Cleaning the data (part 2)**\n",
    "\n",
    "You might we have to **rename** a couple columns. How do you do this? The clue's pretty bold..."
   ]
  },
  {
   "cell_type": "code",
   "execution_count": 17,
   "metadata": {
    "colab": {},
    "colab_type": "code",
    "id": "GKkmn1AnoVZS"
   },
   "outputs": [
    {
     "name": "stdout",
     "output_type": "stream",
     "text": [
      "Index([       'Unnamed: 0',                 NaT, 1995-01-01 00:00:00,\n",
      "       1995-02-01 00:00:00, 1995-03-01 00:00:00, 1995-04-01 00:00:00,\n",
      "       1995-05-01 00:00:00, 1995-06-01 00:00:00, 1995-07-01 00:00:00,\n",
      "       1995-08-01 00:00:00,\n",
      "       ...\n",
      "       2022-05-01 00:00:00, 2022-06-01 00:00:00, 2022-07-01 00:00:00,\n",
      "       2022-08-01 00:00:00, 2022-09-01 00:00:00, 2022-10-01 00:00:00,\n",
      "       2022-11-01 00:00:00, 2022-12-01 00:00:00, 2023-01-01 00:00:00,\n",
      "       2023-02-01 00:00:00],\n",
      "      dtype='object', name=0, length=340)\n"
     ]
    }
   ],
   "source": [
    "print(properties_T.columns)"
   ]
  },
  {
   "cell_type": "code",
   "execution_count": 18,
   "metadata": {},
   "outputs": [
    {
     "name": "stdout",
     "output_type": "stream",
     "text": [
      "Int64Index([ 1,  2,  3,  4,  5,  6,  7,  8,  9, 10, 11, 12, 13, 14, 15, 16, 17,\n",
      "            18, 19, 20, 21, 22, 23, 24, 25, 26, 27, 28, 29, 30, 31, 32, 33, 35,\n",
      "            36, 38, 39, 40, 41, 42, 43, 44, 45, 46, 48],\n",
      "           dtype='int64')\n"
     ]
    }
   ],
   "source": [
    "print(properties_T.index)"
   ]
  },
  {
   "cell_type": "code",
   "execution_count": 19,
   "metadata": {},
   "outputs": [],
   "source": [
    "properties_T=properties_T.rename(columns={ 'Unnamed: 0':'London_Borough', pd.NaT: 'ID'})"
   ]
  },
  {
   "cell_type": "code",
   "execution_count": 20,
   "metadata": {},
   "outputs": [
    {
     "name": "stdout",
     "output_type": "stream",
     "text": [
      "Index([   'London_Borough',                'ID', 1995-01-01 00:00:00,\n",
      "       1995-02-01 00:00:00, 1995-03-01 00:00:00, 1995-04-01 00:00:00,\n",
      "       1995-05-01 00:00:00, 1995-06-01 00:00:00, 1995-07-01 00:00:00,\n",
      "       1995-08-01 00:00:00,\n",
      "       ...\n",
      "       2022-05-01 00:00:00, 2022-06-01 00:00:00, 2022-07-01 00:00:00,\n",
      "       2022-08-01 00:00:00, 2022-09-01 00:00:00, 2022-10-01 00:00:00,\n",
      "       2022-11-01 00:00:00, 2022-12-01 00:00:00, 2023-01-01 00:00:00,\n",
      "       2023-02-01 00:00:00],\n",
      "      dtype='object', name=0, length=340)\n"
     ]
    }
   ],
   "source": [
    "print(properties_T.columns)"
   ]
  },
  {
   "cell_type": "code",
   "execution_count": 21,
   "metadata": {},
   "outputs": [
    {
     "name": "stdout",
     "output_type": "stream",
     "text": [
      "0      London_Borough         ID 1995-01-01 00:00:00 1995-02-01 00:00:00  \\\n",
      "1      City of London  E09000001         91448.98487         82202.77314   \n",
      "2  Barking & Dagenham  E09000002          50460.2266         51085.77983   \n",
      "3              Barnet  E09000003         93284.51832         93190.16963   \n",
      "4              Bexley  E09000004         64958.09036         64787.92069   \n",
      "5               Brent  E09000005         71306.56698         72022.26197   \n",
      "\n",
      "0 1995-03-01 00:00:00 1995-04-01 00:00:00 1995-05-01 00:00:00  \\\n",
      "1         79120.70256         77101.20804         84409.14932   \n",
      "2         51268.96956         53133.50526         53042.24852   \n",
      "3         92247.52435         90762.87492         90258.00033   \n",
      "4         64367.49344         64277.66881         63997.13588   \n",
      "5         72015.76274         72965.63094         73704.04743   \n",
      "\n",
      "0 1995-06-01 00:00:00 1995-07-01 00:00:00 1995-08-01 00:00:00  ...  \\\n",
      "1         94900.51244         110128.0423         112329.4376  ...   \n",
      "2         53700.34831         52113.12157         52232.19868  ...   \n",
      "3         90107.23471         91441.24768         92361.31512  ...   \n",
      "4         64252.32335         63722.70055         64432.60005  ...   \n",
      "5         74310.48167         74127.03788          73547.0411  ...   \n",
      "\n",
      "0 2022-05-01 00:00:00 2022-06-01 00:00:00 2022-07-01 00:00:00  \\\n",
      "1          795174.941           817653.89         823465.9092   \n",
      "2         334860.1394         344686.2927         348768.9455   \n",
      "3         584042.5146         589629.3011         590956.5544   \n",
      "4         385259.9068         388894.2716         394492.2897   \n",
      "5         529771.7571         532821.5739         549660.5579   \n",
      "\n",
      "0 2022-08-01 00:00:00 2022-09-01 00:00:00 2022-10-01 00:00:00  \\\n",
      "1         867266.9155         863879.8209          902309.282   \n",
      "2         350456.7649         349749.4368         353520.9551   \n",
      "3         601802.5584         607196.4449         605114.2948   \n",
      "4         400778.7012          402890.116         406868.9186   \n",
      "5         560279.3404         580872.8243         577222.7821   \n",
      "\n",
      "0 2022-11-01 00:00:00 2022-12-01 00:00:00 2023-01-01 00:00:00  \\\n",
      "1         958869.7855         929060.0982         978120.5133   \n",
      "2         356902.8691         356645.1966         352043.1242   \n",
      "3         596539.3541         596637.6706         598835.4533   \n",
      "4         405329.0206         406858.5581         399887.1166   \n",
      "5         572466.8925         564118.4765         560637.6337   \n",
      "\n",
      "0 2023-02-01 00:00:00  \n",
      "1         960867.8271  \n",
      "2         344518.0012  \n",
      "3         602510.1509  \n",
      "4         399578.3604  \n",
      "5         548074.5348  \n",
      "\n",
      "[5 rows x 340 columns]\n"
     ]
    }
   ],
   "source": [
    "print(properties_T.head())"
   ]
  },
  {
   "cell_type": "markdown",
   "metadata": {
    "colab_type": "text",
    "id": "jy8BzXHmoWEw"
   },
   "source": [
    "**2.4.Transforming the data**\n",
    "\n",
    "Remember what Wes McKinney said about tidy data? \n",
    "\n",
    "You might need to **melt** your DataFrame here. "
   ]
  },
  {
   "cell_type": "code",
   "execution_count": 22,
   "metadata": {
    "colab": {},
    "colab_type": "code",
    "id": "S2wM0qLuo2Zt"
   },
   "outputs": [],
   "source": [
    "clean_properties = pd.melt(properties_T, id_vars= ['London_Borough', 'ID'])"
   ]
  },
  {
   "cell_type": "markdown",
   "metadata": {
    "colab_type": "text",
    "id": "7kIsgAo7o3mf"
   },
   "source": [
    "Remember to make sure your column data types are all correct. Average prices, for example, should be floating point numbers... "
   ]
  },
  {
   "cell_type": "code",
   "execution_count": 23,
   "metadata": {
    "colab": {},
    "colab_type": "code",
    "id": "ZcR4IHbcpOaq"
   },
   "outputs": [
    {
     "data": {
      "text/html": [
       "<div>\n",
       "<style scoped>\n",
       "    .dataframe tbody tr th:only-of-type {\n",
       "        vertical-align: middle;\n",
       "    }\n",
       "\n",
       "    .dataframe tbody tr th {\n",
       "        vertical-align: top;\n",
       "    }\n",
       "\n",
       "    .dataframe thead th {\n",
       "        text-align: right;\n",
       "    }\n",
       "</style>\n",
       "<table border=\"1\" class=\"dataframe\">\n",
       "  <thead>\n",
       "    <tr style=\"text-align: right;\">\n",
       "      <th></th>\n",
       "      <th>London_Borough</th>\n",
       "      <th>ID</th>\n",
       "      <th>0</th>\n",
       "      <th>value</th>\n",
       "    </tr>\n",
       "  </thead>\n",
       "  <tbody>\n",
       "    <tr>\n",
       "      <th>0</th>\n",
       "      <td>City of London</td>\n",
       "      <td>E09000001</td>\n",
       "      <td>1995-01-01</td>\n",
       "      <td>91448.98487</td>\n",
       "    </tr>\n",
       "    <tr>\n",
       "      <th>1</th>\n",
       "      <td>Barking &amp; Dagenham</td>\n",
       "      <td>E09000002</td>\n",
       "      <td>1995-01-01</td>\n",
       "      <td>50460.2266</td>\n",
       "    </tr>\n",
       "    <tr>\n",
       "      <th>2</th>\n",
       "      <td>Barnet</td>\n",
       "      <td>E09000003</td>\n",
       "      <td>1995-01-01</td>\n",
       "      <td>93284.51832</td>\n",
       "    </tr>\n",
       "    <tr>\n",
       "      <th>3</th>\n",
       "      <td>Bexley</td>\n",
       "      <td>E09000004</td>\n",
       "      <td>1995-01-01</td>\n",
       "      <td>64958.09036</td>\n",
       "    </tr>\n",
       "    <tr>\n",
       "      <th>4</th>\n",
       "      <td>Brent</td>\n",
       "      <td>E09000005</td>\n",
       "      <td>1995-01-01</td>\n",
       "      <td>71306.56698</td>\n",
       "    </tr>\n",
       "  </tbody>\n",
       "</table>\n",
       "</div>"
      ],
      "text/plain": [
       "       London_Borough         ID          0        value\n",
       "0      City of London  E09000001 1995-01-01  91448.98487\n",
       "1  Barking & Dagenham  E09000002 1995-01-01   50460.2266\n",
       "2              Barnet  E09000003 1995-01-01  93284.51832\n",
       "3              Bexley  E09000004 1995-01-01  64958.09036\n",
       "4               Brent  E09000005 1995-01-01  71306.56698"
      ]
     },
     "execution_count": 23,
     "metadata": {},
     "output_type": "execute_result"
    }
   ],
   "source": [
    "clean_properties.head()"
   ]
  },
  {
   "cell_type": "code",
   "execution_count": 24,
   "metadata": {},
   "outputs": [
    {
     "data": {
      "text/plain": [
       "(15210, 4)"
      ]
     },
     "execution_count": 24,
     "metadata": {},
     "output_type": "execute_result"
    }
   ],
   "source": [
    "clean_properties.shape"
   ]
  },
  {
   "cell_type": "markdown",
   "metadata": {
    "colab_type": "text",
    "id": "knLUXHLypOtw"
   },
   "source": [
    "**2.5. Cleaning the data (part 3)**\n",
    "\n",
    "Do we have an equal number of observations in the ID, Average Price, Month, and London Borough columns? Remember that there are only 32 London Boroughs. How many entries do you have in that column? \n",
    "\n",
    "Check out the contents of the London Borough column, and if you find null values, get rid of them however you see fit. "
   ]
  },
  {
   "cell_type": "code",
   "execution_count": 25,
   "metadata": {
    "colab": {},
    "colab_type": "code",
    "id": "BnvTW5a3p0fC"
   },
   "outputs": [],
   "source": [
    "clean_properties=clean_properties.rename(columns={ 0:'Month', 'value': 'Average Price'})\n",
    "# there is no \"\" for 0"
   ]
  },
  {
   "cell_type": "code",
   "execution_count": 26,
   "metadata": {},
   "outputs": [
    {
     "data": {
      "text/plain": [
       "London_Borough            object\n",
       "ID                        object\n",
       "Month             datetime64[ns]\n",
       "Average Price             object\n",
       "dtype: object"
      ]
     },
     "execution_count": 26,
     "metadata": {},
     "output_type": "execute_result"
    }
   ],
   "source": [
    "clean_properties.dtypes"
   ]
  },
  {
   "cell_type": "code",
   "execution_count": 27,
   "metadata": {},
   "outputs": [
    {
     "data": {
      "text/plain": [
       "array(['City of London', 'Barking & Dagenham', 'Barnet', 'Bexley',\n",
       "       'Brent', 'Bromley', 'Camden', 'Croydon', 'Ealing', 'Enfield',\n",
       "       'Greenwich', 'Hackney', 'Hammersmith & Fulham', 'Haringey',\n",
       "       'Harrow', 'Havering', 'Hillingdon', 'Hounslow', 'Islington',\n",
       "       'Kensington & Chelsea', 'Kingston upon Thames', 'Lambeth',\n",
       "       'Lewisham', 'Merton', 'Newham', 'Redbridge',\n",
       "       'Richmond upon Thames', 'Southwark', 'Sutton', 'Tower Hamlets',\n",
       "       'Waltham Forest', 'Wandsworth', 'Westminster', 'Inner London',\n",
       "       'Outer London', 'NORTH EAST', 'NORTH WEST', 'YORKS & THE HUMBER',\n",
       "       'EAST MIDLANDS', 'WEST MIDLANDS', 'EAST OF ENGLAND', 'LONDON',\n",
       "       'SOUTH EAST', 'SOUTH WEST', 'England'], dtype=object)"
      ]
     },
     "execution_count": 27,
     "metadata": {},
     "output_type": "execute_result"
    }
   ],
   "source": [
    "clean_properties['London_Borough'].unique()"
   ]
  },
  {
   "cell_type": "code",
   "execution_count": 28,
   "metadata": {},
   "outputs": [
    {
     "data": {
      "text/plain": [
       "45"
      ]
     },
     "execution_count": 28,
     "metadata": {},
     "output_type": "execute_result"
    }
   ],
   "source": [
    "clean_properties['London_Borough'].nunique()\n",
    "#there are 45, but there are only 32 london boroughs, so checked the website to remove the extras"
   ]
  },
  {
   "cell_type": "code",
   "execution_count": 29,
   "metadata": {},
   "outputs": [],
   "source": [
    "extra=['City of London','Inner London',\n",
    "       'Outer London', 'NORTH EAST', 'NORTH WEST', 'YORKS & THE HUMBER',\n",
    "       'EAST MIDLANDS', 'WEST MIDLANDS', 'EAST OF ENGLAND', 'LONDON',\n",
    "       'SOUTH EAST', 'SOUTH WEST', 'England']"
   ]
  },
  {
   "cell_type": "code",
   "execution_count": 30,
   "metadata": {},
   "outputs": [],
   "source": [
    "onlyLB= clean_properties.drop(clean_properties[clean_properties['London_Borough'].isin(extra)].index)"
   ]
  },
  {
   "cell_type": "code",
   "execution_count": 31,
   "metadata": {},
   "outputs": [
    {
     "data": {
      "text/plain": [
       "32"
      ]
     },
     "execution_count": 31,
     "metadata": {},
     "output_type": "execute_result"
    }
   ],
   "source": [
    "onlyLB['London_Borough'].nunique()"
   ]
  },
  {
   "cell_type": "code",
   "execution_count": 32,
   "metadata": {},
   "outputs": [],
   "source": [
    "onlyLB[\"Year\"]=onlyLB['Month'].dt.strftime('%Y')"
   ]
  },
  {
   "cell_type": "code",
   "execution_count": 33,
   "metadata": {},
   "outputs": [
    {
     "name": "stdout",
     "output_type": "stream",
     "text": [
      "       London_Borough         ID      Month Average Price  Year\n",
      "1  Barking & Dagenham  E09000002 1995-01-01    50460.2266  1995\n",
      "2              Barnet  E09000003 1995-01-01   93284.51832  1995\n",
      "3              Bexley  E09000004 1995-01-01   64958.09036  1995\n",
      "4               Brent  E09000005 1995-01-01   71306.56698  1995\n",
      "5             Bromley  E09000006 1995-01-01   81671.47692  1995\n"
     ]
    }
   ],
   "source": [
    "print(onlyLB.head())"
   ]
  },
  {
   "cell_type": "markdown",
   "metadata": {
    "colab_type": "text",
    "id": "PGEx6mJsp6dG"
   },
   "source": [
    "**2.6. Visualizing the data**\n",
    "\n",
    "To visualize the data, why not subset on a particular London Borough? Maybe do a line plot of Month against Average Price?"
   ]
  },
  {
   "cell_type": "code",
   "execution_count": 34,
   "metadata": {},
   "outputs": [],
   "source": [
    "Barnet=onlyLB[onlyLB[\"London_Borough\"]==\"Barnet\"]"
   ]
  },
  {
   "cell_type": "code",
   "execution_count": 35,
   "metadata": {},
   "outputs": [
    {
     "data": {
      "text/html": [
       "<div>\n",
       "<style scoped>\n",
       "    .dataframe tbody tr th:only-of-type {\n",
       "        vertical-align: middle;\n",
       "    }\n",
       "\n",
       "    .dataframe tbody tr th {\n",
       "        vertical-align: top;\n",
       "    }\n",
       "\n",
       "    .dataframe thead th {\n",
       "        text-align: right;\n",
       "    }\n",
       "</style>\n",
       "<table border=\"1\" class=\"dataframe\">\n",
       "  <thead>\n",
       "    <tr style=\"text-align: right;\">\n",
       "      <th></th>\n",
       "      <th>London_Borough</th>\n",
       "      <th>ID</th>\n",
       "      <th>Month</th>\n",
       "      <th>Average Price</th>\n",
       "      <th>Year</th>\n",
       "    </tr>\n",
       "  </thead>\n",
       "  <tbody>\n",
       "    <tr>\n",
       "      <th>2</th>\n",
       "      <td>Barnet</td>\n",
       "      <td>E09000003</td>\n",
       "      <td>1995-01-01</td>\n",
       "      <td>93284.51832</td>\n",
       "      <td>1995</td>\n",
       "    </tr>\n",
       "    <tr>\n",
       "      <th>47</th>\n",
       "      <td>Barnet</td>\n",
       "      <td>E09000003</td>\n",
       "      <td>1995-02-01</td>\n",
       "      <td>93190.16963</td>\n",
       "      <td>1995</td>\n",
       "    </tr>\n",
       "    <tr>\n",
       "      <th>92</th>\n",
       "      <td>Barnet</td>\n",
       "      <td>E09000003</td>\n",
       "      <td>1995-03-01</td>\n",
       "      <td>92247.52435</td>\n",
       "      <td>1995</td>\n",
       "    </tr>\n",
       "    <tr>\n",
       "      <th>137</th>\n",
       "      <td>Barnet</td>\n",
       "      <td>E09000003</td>\n",
       "      <td>1995-04-01</td>\n",
       "      <td>90762.87492</td>\n",
       "      <td>1995</td>\n",
       "    </tr>\n",
       "    <tr>\n",
       "      <th>182</th>\n",
       "      <td>Barnet</td>\n",
       "      <td>E09000003</td>\n",
       "      <td>1995-05-01</td>\n",
       "      <td>90258.00033</td>\n",
       "      <td>1995</td>\n",
       "    </tr>\n",
       "  </tbody>\n",
       "</table>\n",
       "</div>"
      ],
      "text/plain": [
       "    London_Borough         ID      Month Average Price  Year\n",
       "2           Barnet  E09000003 1995-01-01   93284.51832  1995\n",
       "47          Barnet  E09000003 1995-02-01   93190.16963  1995\n",
       "92          Barnet  E09000003 1995-03-01   92247.52435  1995\n",
       "137         Barnet  E09000003 1995-04-01   90762.87492  1995\n",
       "182         Barnet  E09000003 1995-05-01   90258.00033  1995"
      ]
     },
     "execution_count": 35,
     "metadata": {},
     "output_type": "execute_result"
    }
   ],
   "source": [
    "Barnet.head()"
   ]
  },
  {
   "cell_type": "code",
   "execution_count": 36,
   "metadata": {
    "colab": {},
    "colab_type": "code",
    "id": "nAg5pT9cqHAR"
   },
   "outputs": [
    {
     "data": {
      "image/png": "[encoded data removed]",
      "text/plain": [
       "<Figure size 432x288 with 1 Axes>"
      ]
     },
     "metadata": {
      "needs_background": "light"
     },
     "output_type": "display_data"
    }
   ],
   "source": [
    "Barnet.plot(x=\"Month\", y=\"Average Price\", kind=\"line\")\n",
    "plt.show()"
   ]
  },
  {
   "cell_type": "markdown",
   "metadata": {
    "colab_type": "text",
    "id": "aWTPqSJeqHnC"
   },
   "source": [
    "To limit the number of data points you have, you might want to extract the year from every month value your *Month* column. \n",
    "\n",
    "To this end, you *could* apply a ***lambda function***. Your logic could work as follows:\n",
    "1. look through the `Month` column\n",
    "2. extract the year from each individual value in that column \n",
    "3. store that corresponding year as separate column. \n",
    "\n",
    "Whether you go ahead with this is up to you. Just so long as you answer our initial brief: which boroughs of London have seen the greatest house price increase, on average, over the past two decades? "
   ]
  },
  {
   "cell_type": "code",
   "execution_count": 37,
   "metadata": {
    "colab": {},
    "colab_type": "code",
    "id": "e0DF92cyqnu8"
   },
   "outputs": [],
   "source": [
    "table = pd.pivot_table(onlyLB, values=['Average Price'], index=['London_Borough'],\n",
    "                       aggfunc={min, max})\\\n",
    "        .assign(Range=onlyLB.groupby('London_Borough')\n",
    "                         .apply(lambda x: max(x['Average Price']) - min(x['Average Price'])))\\\n",
    "        .assign(IncreaseP=onlyLB.groupby('London_Borough')\n",
    "                         .apply(lambda x: (max(x['Average Price']) - min(x['Average Price']))*100/min(x['Average Price'])))\n"
   ]
  },
  {
   "cell_type": "code",
   "execution_count": 38,
   "metadata": {},
   "outputs": [
    {
     "data": {
      "text/html": [
       "<div>\n",
       "<style scoped>\n",
       "    .dataframe tbody tr th:only-of-type {\n",
       "        vertical-align: middle;\n",
       "    }\n",
       "\n",
       "    .dataframe tbody tr th {\n",
       "        vertical-align: top;\n",
       "    }\n",
       "\n",
       "    .dataframe thead tr th {\n",
       "        text-align: left;\n",
       "    }\n",
       "\n",
       "    .dataframe thead tr:last-of-type th {\n",
       "        text-align: right;\n",
       "    }\n",
       "</style>\n",
       "<table border=\"1\" class=\"dataframe\">\n",
       "  <thead>\n",
       "    <tr>\n",
       "      <th></th>\n",
       "      <th colspan=\"2\" halign=\"left\">Average Price</th>\n",
       "      <th>Range</th>\n",
       "      <th>IncreaseP</th>\n",
       "    </tr>\n",
       "    <tr>\n",
       "      <th></th>\n",
       "      <th>max</th>\n",
       "      <th>min</th>\n",
       "      <th></th>\n",
       "      <th></th>\n",
       "    </tr>\n",
       "    <tr>\n",
       "      <th>London_Borough</th>\n",
       "      <th></th>\n",
       "      <th></th>\n",
       "      <th></th>\n",
       "      <th></th>\n",
       "    </tr>\n",
       "  </thead>\n",
       "  <tbody>\n",
       "    <tr>\n",
       "      <th>Hackney</th>\n",
       "      <td>6.488747e+05</td>\n",
       "      <td>61296.52637</td>\n",
       "      <td>5.875782e+05</td>\n",
       "      <td>958.583202</td>\n",
       "    </tr>\n",
       "    <tr>\n",
       "      <th>Southwark</th>\n",
       "      <td>5.594183e+05</td>\n",
       "      <td>60885.98483</td>\n",
       "      <td>4.985324e+05</td>\n",
       "      <td>818.796572</td>\n",
       "    </tr>\n",
       "    <tr>\n",
       "      <th>Waltham Forest</th>\n",
       "      <td>5.260640e+05</td>\n",
       "      <td>60252.12246</td>\n",
       "      <td>4.658119e+05</td>\n",
       "      <td>773.104520</td>\n",
       "    </tr>\n",
       "    <tr>\n",
       "      <th>Lambeth</th>\n",
       "      <td>5.625792e+05</td>\n",
       "      <td>65381.51908</td>\n",
       "      <td>4.971977e+05</td>\n",
       "      <td>760.456065</td>\n",
       "    </tr>\n",
       "    <tr>\n",
       "      <th>Westminster</th>\n",
       "      <td>1.117408e+06</td>\n",
       "      <td>131468.30960</td>\n",
       "      <td>9.859392e+05</td>\n",
       "      <td>749.944392</td>\n",
       "    </tr>\n",
       "    <tr>\n",
       "      <th>Tower Hamlets</th>\n",
       "      <td>5.029323e+05</td>\n",
       "      <td>59865.18995</td>\n",
       "      <td>4.430672e+05</td>\n",
       "      <td>740.108152</td>\n",
       "    </tr>\n",
       "    <tr>\n",
       "      <th>Kensington &amp; Chelsea</th>\n",
       "      <td>1.512692e+06</td>\n",
       "      <td>182345.24630</td>\n",
       "      <td>1.330347e+06</td>\n",
       "      <td>729.575644</td>\n",
       "    </tr>\n",
       "    <tr>\n",
       "      <th>Islington</th>\n",
       "      <td>7.372804e+05</td>\n",
       "      <td>89406.19881</td>\n",
       "      <td>6.478742e+05</td>\n",
       "      <td>724.641269</td>\n",
       "    </tr>\n",
       "    <tr>\n",
       "      <th>Haringey</th>\n",
       "      <td>6.239425e+05</td>\n",
       "      <td>76287.56947</td>\n",
       "      <td>5.476549e+05</td>\n",
       "      <td>717.882225</td>\n",
       "    </tr>\n",
       "    <tr>\n",
       "      <th>Lewisham</th>\n",
       "      <td>4.712334e+05</td>\n",
       "      <td>57700.33538</td>\n",
       "      <td>4.135330e+05</td>\n",
       "      <td>716.690839</td>\n",
       "    </tr>\n",
       "    <tr>\n",
       "      <th>Brent</th>\n",
       "      <td>5.808728e+05</td>\n",
       "      <td>71306.56698</td>\n",
       "      <td>5.095663e+05</td>\n",
       "      <td>714.613364</td>\n",
       "    </tr>\n",
       "    <tr>\n",
       "      <th>Newham</th>\n",
       "      <td>4.269581e+05</td>\n",
       "      <td>53153.88306</td>\n",
       "      <td>3.738043e+05</td>\n",
       "      <td>703.249215</td>\n",
       "    </tr>\n",
       "    <tr>\n",
       "      <th>Camden</th>\n",
       "      <td>8.902884e+05</td>\n",
       "      <td>115418.83960</td>\n",
       "      <td>7.748696e+05</td>\n",
       "      <td>671.354493</td>\n",
       "    </tr>\n",
       "    <tr>\n",
       "      <th>Wandsworth</th>\n",
       "      <td>6.575780e+05</td>\n",
       "      <td>86518.05945</td>\n",
       "      <td>5.710599e+05</td>\n",
       "      <td>660.047081</td>\n",
       "    </tr>\n",
       "    <tr>\n",
       "      <th>Merton</th>\n",
       "      <td>5.854502e+05</td>\n",
       "      <td>79569.22895</td>\n",
       "      <td>5.058810e+05</td>\n",
       "      <td>635.774649</td>\n",
       "    </tr>\n",
       "    <tr>\n",
       "      <th>Greenwich</th>\n",
       "      <td>4.466521e+05</td>\n",
       "      <td>60993.26863</td>\n",
       "      <td>3.856588e+05</td>\n",
       "      <td>632.297346</td>\n",
       "    </tr>\n",
       "    <tr>\n",
       "      <th>Richmond upon Thames</th>\n",
       "      <td>7.679305e+05</td>\n",
       "      <td>106875.00000</td>\n",
       "      <td>6.610555e+05</td>\n",
       "      <td>618.531492</td>\n",
       "    </tr>\n",
       "    <tr>\n",
       "      <th>Hammersmith &amp; Fulham</th>\n",
       "      <td>8.538705e+05</td>\n",
       "      <td>120635.94670</td>\n",
       "      <td>7.332346e+05</td>\n",
       "      <td>607.807720</td>\n",
       "    </tr>\n",
       "    <tr>\n",
       "      <th>Barking &amp; Dagenham</th>\n",
       "      <td>3.569029e+05</td>\n",
       "      <td>50460.22660</td>\n",
       "      <td>3.064426e+05</td>\n",
       "      <td>607.295415</td>\n",
       "    </tr>\n",
       "    <tr>\n",
       "      <th>Kingston upon Thames</th>\n",
       "      <td>5.703099e+05</td>\n",
       "      <td>80875.84843</td>\n",
       "      <td>4.894341e+05</td>\n",
       "      <td>605.167139</td>\n",
       "    </tr>\n",
       "    <tr>\n",
       "      <th>Ealing</th>\n",
       "      <td>5.462139e+05</td>\n",
       "      <td>79272.34618</td>\n",
       "      <td>4.669416e+05</td>\n",
       "      <td>589.034628</td>\n",
       "    </tr>\n",
       "    <tr>\n",
       "      <th>Redbridge</th>\n",
       "      <td>4.881041e+05</td>\n",
       "      <td>72141.62610</td>\n",
       "      <td>4.159625e+05</td>\n",
       "      <td>576.591458</td>\n",
       "    </tr>\n",
       "    <tr>\n",
       "      <th>Barnet</th>\n",
       "      <td>6.071964e+05</td>\n",
       "      <td>90107.23471</td>\n",
       "      <td>5.170892e+05</td>\n",
       "      <td>573.859815</td>\n",
       "    </tr>\n",
       "    <tr>\n",
       "      <th>Hillingdon</th>\n",
       "      <td>4.762820e+05</td>\n",
       "      <td>71760.09266</td>\n",
       "      <td>4.045219e+05</td>\n",
       "      <td>563.714361</td>\n",
       "    </tr>\n",
       "    <tr>\n",
       "      <th>Hounslow</th>\n",
       "      <td>4.703654e+05</td>\n",
       "      <td>71051.55852</td>\n",
       "      <td>3.993138e+05</td>\n",
       "      <td>562.005710</td>\n",
       "    </tr>\n",
       "    <tr>\n",
       "      <th>Havering</th>\n",
       "      <td>4.379954e+05</td>\n",
       "      <td>66181.79433</td>\n",
       "      <td>3.718136e+05</td>\n",
       "      <td>561.806536</td>\n",
       "    </tr>\n",
       "    <tr>\n",
       "      <th>Enfield</th>\n",
       "      <td>4.642826e+05</td>\n",
       "      <td>70630.77955</td>\n",
       "      <td>3.936518e+05</td>\n",
       "      <td>557.337500</td>\n",
       "    </tr>\n",
       "    <tr>\n",
       "      <th>Harrow</th>\n",
       "      <td>5.335586e+05</td>\n",
       "      <td>82054.42111</td>\n",
       "      <td>4.515042e+05</td>\n",
       "      <td>550.249686</td>\n",
       "    </tr>\n",
       "    <tr>\n",
       "      <th>Sutton</th>\n",
       "      <td>4.480547e+05</td>\n",
       "      <td>69290.69004</td>\n",
       "      <td>3.787640e+05</td>\n",
       "      <td>546.630389</td>\n",
       "    </tr>\n",
       "    <tr>\n",
       "      <th>Bexley</th>\n",
       "      <td>4.068689e+05</td>\n",
       "      <td>63722.70055</td>\n",
       "      <td>3.431462e+05</td>\n",
       "      <td>538.499177</td>\n",
       "    </tr>\n",
       "    <tr>\n",
       "      <th>Croydon</th>\n",
       "      <td>4.332016e+05</td>\n",
       "      <td>68006.00735</td>\n",
       "      <td>3.651956e+05</td>\n",
       "      <td>537.004974</td>\n",
       "    </tr>\n",
       "    <tr>\n",
       "      <th>Bromley</th>\n",
       "      <td>5.155175e+05</td>\n",
       "      <td>81124.41227</td>\n",
       "      <td>4.343931e+05</td>\n",
       "      <td>535.465313</td>\n",
       "    </tr>\n",
       "  </tbody>\n",
       "</table>\n",
       "</div>"
      ],
      "text/plain": [
       "                     Average Price                       Range   IncreaseP\n",
       "                               max           min                          \n",
       "London_Borough                                                            \n",
       "Hackney               6.488747e+05   61296.52637  5.875782e+05  958.583202\n",
       "Southwark             5.594183e+05   60885.98483  4.985324e+05  818.796572\n",
       "Waltham Forest        5.260640e+05   60252.12246  4.658119e+05  773.104520\n",
       "Lambeth               5.625792e+05   65381.51908  4.971977e+05  760.456065\n",
       "Westminster           1.117408e+06  131468.30960  9.859392e+05  749.944392\n",
       "Tower Hamlets         5.029323e+05   59865.18995  4.430672e+05  740.108152\n",
       "Kensington & Chelsea  1.512692e+06  182345.24630  1.330347e+06  729.575644\n",
       "Islington             7.372804e+05   89406.19881  6.478742e+05  724.641269\n",
       "Haringey              6.239425e+05   76287.56947  5.476549e+05  717.882225\n",
       "Lewisham              4.712334e+05   57700.33538  4.135330e+05  716.690839\n",
       "Brent                 5.808728e+05   71306.56698  5.095663e+05  714.613364\n",
       "Newham                4.269581e+05   53153.88306  3.738043e+05  703.249215\n",
       "Camden                8.902884e+05  115418.83960  7.748696e+05  671.354493\n",
       "Wandsworth            6.575780e+05   86518.05945  5.710599e+05  660.047081\n",
       "Merton                5.854502e+05   79569.22895  5.058810e+05  635.774649\n",
       "Greenwich             4.466521e+05   60993.26863  3.856588e+05  632.297346\n",
       "Richmond upon Thames  7.679305e+05  106875.00000  6.610555e+05  618.531492\n",
       "Hammersmith & Fulham  8.538705e+05  120635.94670  7.332346e+05  607.807720\n",
       "Barking & Dagenham    3.569029e+05   50460.22660  3.064426e+05  607.295415\n",
       "Kingston upon Thames  5.703099e+05   80875.84843  4.894341e+05  605.167139\n",
       "Ealing                5.462139e+05   79272.34618  4.669416e+05  589.034628\n",
       "Redbridge             4.881041e+05   72141.62610  4.159625e+05  576.591458\n",
       "Barnet                6.071964e+05   90107.23471  5.170892e+05  573.859815\n",
       "Hillingdon            4.762820e+05   71760.09266  4.045219e+05  563.714361\n",
       "Hounslow              4.703654e+05   71051.55852  3.993138e+05  562.005710\n",
       "Havering              4.379954e+05   66181.79433  3.718136e+05  561.806536\n",
       "Enfield               4.642826e+05   70630.77955  3.936518e+05  557.337500\n",
       "Harrow                5.335586e+05   82054.42111  4.515042e+05  550.249686\n",
       "Sutton                4.480547e+05   69290.69004  3.787640e+05  546.630389\n",
       "Bexley                4.068689e+05   63722.70055  3.431462e+05  538.499177\n",
       "Croydon               4.332016e+05   68006.00735  3.651956e+05  537.004974\n",
       "Bromley               5.155175e+05   81124.41227  4.343931e+05  535.465313"
      ]
     },
     "execution_count": 38,
     "metadata": {},
     "output_type": "execute_result"
    }
   ],
   "source": [
    "table.sort_values(\"IncreaseP\", ascending=False)\n",
    "#Hackney increased 958.583202%, however, maybe it make senses to average the price per year and do the calculation "
   ]
  },
  {
   "cell_type": "code",
   "execution_count": 39,
   "metadata": {},
   "outputs": [
    {
     "data": {
      "text/html": [
       "<div>\n",
       "<style scoped>\n",
       "    .dataframe tbody tr th:only-of-type {\n",
       "        vertical-align: middle;\n",
       "    }\n",
       "\n",
       "    .dataframe tbody tr th {\n",
       "        vertical-align: top;\n",
       "    }\n",
       "\n",
       "    .dataframe thead tr th {\n",
       "        text-align: left;\n",
       "    }\n",
       "\n",
       "    .dataframe thead tr:last-of-type th {\n",
       "        text-align: right;\n",
       "    }\n",
       "</style>\n",
       "<table border=\"1\" class=\"dataframe\">\n",
       "  <thead>\n",
       "    <tr>\n",
       "      <th></th>\n",
       "      <th colspan=\"2\" halign=\"left\">Average Price</th>\n",
       "      <th>Range</th>\n",
       "      <th>IncreaseP</th>\n",
       "    </tr>\n",
       "    <tr>\n",
       "      <th></th>\n",
       "      <th>max</th>\n",
       "      <th>min</th>\n",
       "      <th></th>\n",
       "      <th></th>\n",
       "    </tr>\n",
       "    <tr>\n",
       "      <th>London_Borough</th>\n",
       "      <th></th>\n",
       "      <th></th>\n",
       "      <th></th>\n",
       "      <th></th>\n",
       "    </tr>\n",
       "  </thead>\n",
       "  <tbody>\n",
       "    <tr>\n",
       "      <th>Kensington &amp; Chelsea</th>\n",
       "      <td>1.512692e+06</td>\n",
       "      <td>182345.24630</td>\n",
       "      <td>1.330347e+06</td>\n",
       "      <td>729.575644</td>\n",
       "    </tr>\n",
       "    <tr>\n",
       "      <th>Westminster</th>\n",
       "      <td>1.117408e+06</td>\n",
       "      <td>131468.30960</td>\n",
       "      <td>9.859392e+05</td>\n",
       "      <td>749.944392</td>\n",
       "    </tr>\n",
       "    <tr>\n",
       "      <th>Camden</th>\n",
       "      <td>8.902884e+05</td>\n",
       "      <td>115418.83960</td>\n",
       "      <td>7.748696e+05</td>\n",
       "      <td>671.354493</td>\n",
       "    </tr>\n",
       "    <tr>\n",
       "      <th>Hammersmith &amp; Fulham</th>\n",
       "      <td>8.538705e+05</td>\n",
       "      <td>120635.94670</td>\n",
       "      <td>7.332346e+05</td>\n",
       "      <td>607.807720</td>\n",
       "    </tr>\n",
       "    <tr>\n",
       "      <th>Richmond upon Thames</th>\n",
       "      <td>7.679305e+05</td>\n",
       "      <td>106875.00000</td>\n",
       "      <td>6.610555e+05</td>\n",
       "      <td>618.531492</td>\n",
       "    </tr>\n",
       "    <tr>\n",
       "      <th>Islington</th>\n",
       "      <td>7.372804e+05</td>\n",
       "      <td>89406.19881</td>\n",
       "      <td>6.478742e+05</td>\n",
       "      <td>724.641269</td>\n",
       "    </tr>\n",
       "    <tr>\n",
       "      <th>Hackney</th>\n",
       "      <td>6.488747e+05</td>\n",
       "      <td>61296.52637</td>\n",
       "      <td>5.875782e+05</td>\n",
       "      <td>958.583202</td>\n",
       "    </tr>\n",
       "    <tr>\n",
       "      <th>Wandsworth</th>\n",
       "      <td>6.575780e+05</td>\n",
       "      <td>86518.05945</td>\n",
       "      <td>5.710599e+05</td>\n",
       "      <td>660.047081</td>\n",
       "    </tr>\n",
       "    <tr>\n",
       "      <th>Haringey</th>\n",
       "      <td>6.239425e+05</td>\n",
       "      <td>76287.56947</td>\n",
       "      <td>5.476549e+05</td>\n",
       "      <td>717.882225</td>\n",
       "    </tr>\n",
       "    <tr>\n",
       "      <th>Barnet</th>\n",
       "      <td>6.071964e+05</td>\n",
       "      <td>90107.23471</td>\n",
       "      <td>5.170892e+05</td>\n",
       "      <td>573.859815</td>\n",
       "    </tr>\n",
       "    <tr>\n",
       "      <th>Brent</th>\n",
       "      <td>5.808728e+05</td>\n",
       "      <td>71306.56698</td>\n",
       "      <td>5.095663e+05</td>\n",
       "      <td>714.613364</td>\n",
       "    </tr>\n",
       "    <tr>\n",
       "      <th>Merton</th>\n",
       "      <td>5.854502e+05</td>\n",
       "      <td>79569.22895</td>\n",
       "      <td>5.058810e+05</td>\n",
       "      <td>635.774649</td>\n",
       "    </tr>\n",
       "    <tr>\n",
       "      <th>Southwark</th>\n",
       "      <td>5.594183e+05</td>\n",
       "      <td>60885.98483</td>\n",
       "      <td>4.985324e+05</td>\n",
       "      <td>818.796572</td>\n",
       "    </tr>\n",
       "    <tr>\n",
       "      <th>Lambeth</th>\n",
       "      <td>5.625792e+05</td>\n",
       "      <td>65381.51908</td>\n",
       "      <td>4.971977e+05</td>\n",
       "      <td>760.456065</td>\n",
       "    </tr>\n",
       "    <tr>\n",
       "      <th>Kingston upon Thames</th>\n",
       "      <td>5.703099e+05</td>\n",
       "      <td>80875.84843</td>\n",
       "      <td>4.894341e+05</td>\n",
       "      <td>605.167139</td>\n",
       "    </tr>\n",
       "    <tr>\n",
       "      <th>Ealing</th>\n",
       "      <td>5.462139e+05</td>\n",
       "      <td>79272.34618</td>\n",
       "      <td>4.669416e+05</td>\n",
       "      <td>589.034628</td>\n",
       "    </tr>\n",
       "    <tr>\n",
       "      <th>Waltham Forest</th>\n",
       "      <td>5.260640e+05</td>\n",
       "      <td>60252.12246</td>\n",
       "      <td>4.658119e+05</td>\n",
       "      <td>773.104520</td>\n",
       "    </tr>\n",
       "    <tr>\n",
       "      <th>Harrow</th>\n",
       "      <td>5.335586e+05</td>\n",
       "      <td>82054.42111</td>\n",
       "      <td>4.515042e+05</td>\n",
       "      <td>550.249686</td>\n",
       "    </tr>\n",
       "    <tr>\n",
       "      <th>Tower Hamlets</th>\n",
       "      <td>5.029323e+05</td>\n",
       "      <td>59865.18995</td>\n",
       "      <td>4.430672e+05</td>\n",
       "      <td>740.108152</td>\n",
       "    </tr>\n",
       "    <tr>\n",
       "      <th>Bromley</th>\n",
       "      <td>5.155175e+05</td>\n",
       "      <td>81124.41227</td>\n",
       "      <td>4.343931e+05</td>\n",
       "      <td>535.465313</td>\n",
       "    </tr>\n",
       "    <tr>\n",
       "      <th>Redbridge</th>\n",
       "      <td>4.881041e+05</td>\n",
       "      <td>72141.62610</td>\n",
       "      <td>4.159625e+05</td>\n",
       "      <td>576.591458</td>\n",
       "    </tr>\n",
       "    <tr>\n",
       "      <th>Lewisham</th>\n",
       "      <td>4.712334e+05</td>\n",
       "      <td>57700.33538</td>\n",
       "      <td>4.135330e+05</td>\n",
       "      <td>716.690839</td>\n",
       "    </tr>\n",
       "    <tr>\n",
       "      <th>Hillingdon</th>\n",
       "      <td>4.762820e+05</td>\n",
       "      <td>71760.09266</td>\n",
       "      <td>4.045219e+05</td>\n",
       "      <td>563.714361</td>\n",
       "    </tr>\n",
       "    <tr>\n",
       "      <th>Hounslow</th>\n",
       "      <td>4.703654e+05</td>\n",
       "      <td>71051.55852</td>\n",
       "      <td>3.993138e+05</td>\n",
       "      <td>562.005710</td>\n",
       "    </tr>\n",
       "    <tr>\n",
       "      <th>Enfield</th>\n",
       "      <td>4.642826e+05</td>\n",
       "      <td>70630.77955</td>\n",
       "      <td>3.936518e+05</td>\n",
       "      <td>557.337500</td>\n",
       "    </tr>\n",
       "    <tr>\n",
       "      <th>Greenwich</th>\n",
       "      <td>4.466521e+05</td>\n",
       "      <td>60993.26863</td>\n",
       "      <td>3.856588e+05</td>\n",
       "      <td>632.297346</td>\n",
       "    </tr>\n",
       "    <tr>\n",
       "      <th>Sutton</th>\n",
       "      <td>4.480547e+05</td>\n",
       "      <td>69290.69004</td>\n",
       "      <td>3.787640e+05</td>\n",
       "      <td>546.630389</td>\n",
       "    </tr>\n",
       "    <tr>\n",
       "      <th>Newham</th>\n",
       "      <td>4.269581e+05</td>\n",
       "      <td>53153.88306</td>\n",
       "      <td>3.738043e+05</td>\n",
       "      <td>703.249215</td>\n",
       "    </tr>\n",
       "    <tr>\n",
       "      <th>Havering</th>\n",
       "      <td>4.379954e+05</td>\n",
       "      <td>66181.79433</td>\n",
       "      <td>3.718136e+05</td>\n",
       "      <td>561.806536</td>\n",
       "    </tr>\n",
       "    <tr>\n",
       "      <th>Croydon</th>\n",
       "      <td>4.332016e+05</td>\n",
       "      <td>68006.00735</td>\n",
       "      <td>3.651956e+05</td>\n",
       "      <td>537.004974</td>\n",
       "    </tr>\n",
       "    <tr>\n",
       "      <th>Bexley</th>\n",
       "      <td>4.068689e+05</td>\n",
       "      <td>63722.70055</td>\n",
       "      <td>3.431462e+05</td>\n",
       "      <td>538.499177</td>\n",
       "    </tr>\n",
       "    <tr>\n",
       "      <th>Barking &amp; Dagenham</th>\n",
       "      <td>3.569029e+05</td>\n",
       "      <td>50460.22660</td>\n",
       "      <td>3.064426e+05</td>\n",
       "      <td>607.295415</td>\n",
       "    </tr>\n",
       "  </tbody>\n",
       "</table>\n",
       "</div>"
      ],
      "text/plain": [
       "                     Average Price                       Range   IncreaseP\n",
       "                               max           min                          \n",
       "London_Borough                                                            \n",
       "Kensington & Chelsea  1.512692e+06  182345.24630  1.330347e+06  729.575644\n",
       "Westminster           1.117408e+06  131468.30960  9.859392e+05  749.944392\n",
       "Camden                8.902884e+05  115418.83960  7.748696e+05  671.354493\n",
       "Hammersmith & Fulham  8.538705e+05  120635.94670  7.332346e+05  607.807720\n",
       "Richmond upon Thames  7.679305e+05  106875.00000  6.610555e+05  618.531492\n",
       "Islington             7.372804e+05   89406.19881  6.478742e+05  724.641269\n",
       "Hackney               6.488747e+05   61296.52637  5.875782e+05  958.583202\n",
       "Wandsworth            6.575780e+05   86518.05945  5.710599e+05  660.047081\n",
       "Haringey              6.239425e+05   76287.56947  5.476549e+05  717.882225\n",
       "Barnet                6.071964e+05   90107.23471  5.170892e+05  573.859815\n",
       "Brent                 5.808728e+05   71306.56698  5.095663e+05  714.613364\n",
       "Merton                5.854502e+05   79569.22895  5.058810e+05  635.774649\n",
       "Southwark             5.594183e+05   60885.98483  4.985324e+05  818.796572\n",
       "Lambeth               5.625792e+05   65381.51908  4.971977e+05  760.456065\n",
       "Kingston upon Thames  5.703099e+05   80875.84843  4.894341e+05  605.167139\n",
       "Ealing                5.462139e+05   79272.34618  4.669416e+05  589.034628\n",
       "Waltham Forest        5.260640e+05   60252.12246  4.658119e+05  773.104520\n",
       "Harrow                5.335586e+05   82054.42111  4.515042e+05  550.249686\n",
       "Tower Hamlets         5.029323e+05   59865.18995  4.430672e+05  740.108152\n",
       "Bromley               5.155175e+05   81124.41227  4.343931e+05  535.465313\n",
       "Redbridge             4.881041e+05   72141.62610  4.159625e+05  576.591458\n",
       "Lewisham              4.712334e+05   57700.33538  4.135330e+05  716.690839\n",
       "Hillingdon            4.762820e+05   71760.09266  4.045219e+05  563.714361\n",
       "Hounslow              4.703654e+05   71051.55852  3.993138e+05  562.005710\n",
       "Enfield               4.642826e+05   70630.77955  3.936518e+05  557.337500\n",
       "Greenwich             4.466521e+05   60993.26863  3.856588e+05  632.297346\n",
       "Sutton                4.480547e+05   69290.69004  3.787640e+05  546.630389\n",
       "Newham                4.269581e+05   53153.88306  3.738043e+05  703.249215\n",
       "Havering              4.379954e+05   66181.79433  3.718136e+05  561.806536\n",
       "Croydon               4.332016e+05   68006.00735  3.651956e+05  537.004974\n",
       "Bexley                4.068689e+05   63722.70055  3.431462e+05  538.499177\n",
       "Barking & Dagenham    3.569029e+05   50460.22660  3.064426e+05  607.295415"
      ]
     },
     "execution_count": 39,
     "metadata": {},
     "output_type": "execute_result"
    }
   ],
   "source": [
    "table.sort_values(\"Range\", ascending=False)\n",
    "#Kensington & Chelsea increased 1.330347e+06"
   ]
  },
  {
   "cell_type": "markdown",
   "metadata": {
    "colab_type": "text",
    "id": "2knuTxAEqoJ4"
   },
   "source": [
    "**3. Modeling**\n",
    "\n",
    "Consider creating a function that will calculate a ratio of house prices, comparing the price of a house in 2018 to the price in 1998.\n",
    "\n",
    "Consider calling this function create_price_ratio.\n",
    "\n",
    "You'd want this function to:\n",
    "1. Take a filter of dfg, specifically where this filter constrains the London_Borough, as an argument. For example, one admissible argument should be: dfg[dfg['London_Borough']=='Camden'].\n",
    "2. Get the Average Price for that Borough, for the years 1998 and 2018.\n",
    "4. Calculate the ratio of the Average Price for 1998 divided by the Average Price for 2018.\n",
    "5. Return that ratio.\n",
    "\n",
    "Once you've written this function, you ultimately want to use it to iterate through all the unique London_Boroughs and work out the ratio capturing the difference of house prices between 1998 and 2018.\n",
    "\n",
    "Bear in mind: you don't have to write a function like this if you don't want to. If you can solve the brief otherwise, then great! \n",
    "\n",
    "***Hint***: This section should test the skills you acquired in:\n",
    "- Python Data Science Toolbox - Part One, all modules"
   ]
  },
  {
   "cell_type": "code",
   "execution_count": 40,
   "metadata": {
    "colab": {},
    "colab_type": "code",
    "id": "cKTyr437UgDa"
   },
   "outputs": [
    {
     "data": {
      "text/html": [
       "<div>\n",
       "<style scoped>\n",
       "    .dataframe tbody tr th:only-of-type {\n",
       "        vertical-align: middle;\n",
       "    }\n",
       "\n",
       "    .dataframe tbody tr th {\n",
       "        vertical-align: top;\n",
       "    }\n",
       "\n",
       "    .dataframe thead tr th {\n",
       "        text-align: left;\n",
       "    }\n",
       "\n",
       "    .dataframe thead tr:last-of-type th {\n",
       "        text-align: right;\n",
       "    }\n",
       "</style>\n",
       "<table border=\"1\" class=\"dataframe\">\n",
       "  <thead>\n",
       "    <tr>\n",
       "      <th></th>\n",
       "      <th></th>\n",
       "      <th>Average Price</th>\n",
       "    </tr>\n",
       "    <tr>\n",
       "      <th></th>\n",
       "      <th></th>\n",
       "      <th>mean</th>\n",
       "    </tr>\n",
       "    <tr>\n",
       "      <th>London_Borough</th>\n",
       "      <th>Year</th>\n",
       "      <th></th>\n",
       "    </tr>\n",
       "  </thead>\n",
       "  <tbody>\n",
       "    <tr>\n",
       "      <th rowspan=\"5\" valign=\"top\">Barking &amp; Dagenham</th>\n",
       "      <th>1995</th>\n",
       "      <td>51817.969390</td>\n",
       "    </tr>\n",
       "    <tr>\n",
       "      <th>1996</th>\n",
       "      <td>51718.192690</td>\n",
       "    </tr>\n",
       "    <tr>\n",
       "      <th>1997</th>\n",
       "      <td>55974.262309</td>\n",
       "    </tr>\n",
       "    <tr>\n",
       "      <th>1998</th>\n",
       "      <td>60285.821083</td>\n",
       "    </tr>\n",
       "    <tr>\n",
       "      <th>1999</th>\n",
       "      <td>65320.934441</td>\n",
       "    </tr>\n",
       "    <tr>\n",
       "      <th>...</th>\n",
       "      <th>...</th>\n",
       "      <td>...</td>\n",
       "    </tr>\n",
       "    <tr>\n",
       "      <th rowspan=\"5\" valign=\"top\">Westminster</th>\n",
       "      <th>2019</th>\n",
       "      <td>955998.608925</td>\n",
       "    </tr>\n",
       "    <tr>\n",
       "      <th>2020</th>\n",
       "      <td>960469.218567</td>\n",
       "    </tr>\n",
       "    <tr>\n",
       "      <th>2021</th>\n",
       "      <td>962777.447967</td>\n",
       "    </tr>\n",
       "    <tr>\n",
       "      <th>2022</th>\n",
       "      <td>999703.468367</td>\n",
       "    </tr>\n",
       "    <tr>\n",
       "      <th>2023</th>\n",
       "      <td>962494.345150</td>\n",
       "    </tr>\n",
       "  </tbody>\n",
       "</table>\n",
       "<p>928 rows × 1 columns</p>\n",
       "</div>"
      ],
      "text/plain": [
       "                         Average Price\n",
       "                                  mean\n",
       "London_Borough     Year               \n",
       "Barking & Dagenham 1995   51817.969390\n",
       "                   1996   51718.192690\n",
       "                   1997   55974.262309\n",
       "                   1998   60285.821083\n",
       "                   1999   65320.934441\n",
       "...                                ...\n",
       "Westminster        2019  955998.608925\n",
       "                   2020  960469.218567\n",
       "                   2021  962777.447967\n",
       "                   2022  999703.468367\n",
       "                   2023  962494.345150\n",
       "\n",
       "[928 rows x 1 columns]"
      ]
     },
     "execution_count": 40,
     "metadata": {},
     "output_type": "execute_result"
    }
   ],
   "source": [
    "Avg_year = pd.pivot_table(onlyLB, values=['Average Price'], index=['London_Borough', 'Year'],\n",
    "                       aggfunc={np.mean})\n",
    "Avg_year"
   ]
  },
  {
   "cell_type": "code",
   "execution_count": 41,
   "metadata": {},
   "outputs": [],
   "source": [
    "year1998_2018 = onlyLB[onlyLB['Year'].isin(['1998', '2018'])]"
   ]
  },
  {
   "cell_type": "code",
   "execution_count": 42,
   "metadata": {},
   "outputs": [
    {
     "data": {
      "text/html": [
       "<div>\n",
       "<style scoped>\n",
       "    .dataframe tbody tr th:only-of-type {\n",
       "        vertical-align: middle;\n",
       "    }\n",
       "\n",
       "    .dataframe tbody tr th {\n",
       "        vertical-align: top;\n",
       "    }\n",
       "\n",
       "    .dataframe thead tr th {\n",
       "        text-align: left;\n",
       "    }\n",
       "\n",
       "    .dataframe thead tr:last-of-type th {\n",
       "        text-align: right;\n",
       "    }\n",
       "</style>\n",
       "<table border=\"1\" class=\"dataframe\">\n",
       "  <thead>\n",
       "    <tr>\n",
       "      <th></th>\n",
       "      <th colspan=\"2\" halign=\"left\">Average Price</th>\n",
       "    </tr>\n",
       "    <tr>\n",
       "      <th>Year</th>\n",
       "      <th>1998</th>\n",
       "      <th>2018</th>\n",
       "    </tr>\n",
       "    <tr>\n",
       "      <th>London_Borough</th>\n",
       "      <th></th>\n",
       "      <th></th>\n",
       "    </tr>\n",
       "  </thead>\n",
       "  <tbody>\n",
       "    <tr>\n",
       "      <th>Barking &amp; Dagenham</th>\n",
       "      <td>60285.821083</td>\n",
       "      <td>2.951967e+05</td>\n",
       "    </tr>\n",
       "    <tr>\n",
       "      <th>Barnet</th>\n",
       "      <td>122359.468033</td>\n",
       "      <td>5.332665e+05</td>\n",
       "    </tr>\n",
       "    <tr>\n",
       "      <th>Bexley</th>\n",
       "      <td>80632.020822</td>\n",
       "      <td>3.426036e+05</td>\n",
       "    </tr>\n",
       "    <tr>\n",
       "      <th>Brent</th>\n",
       "      <td>100692.590417</td>\n",
       "      <td>4.928454e+05</td>\n",
       "    </tr>\n",
       "    <tr>\n",
       "      <th>Bromley</th>\n",
       "      <td>108286.520467</td>\n",
       "      <td>4.434100e+05</td>\n",
       "    </tr>\n",
       "    <tr>\n",
       "      <th>Camden</th>\n",
       "      <td>170688.973933</td>\n",
       "      <td>8.424104e+05</td>\n",
       "    </tr>\n",
       "    <tr>\n",
       "      <th>Croydon</th>\n",
       "      <td>88143.228830</td>\n",
       "      <td>3.702985e+05</td>\n",
       "    </tr>\n",
       "    <tr>\n",
       "      <th>Ealing</th>\n",
       "      <td>111343.154650</td>\n",
       "      <td>4.800505e+05</td>\n",
       "    </tr>\n",
       "    <tr>\n",
       "      <th>Enfield</th>\n",
       "      <td>93030.224322</td>\n",
       "      <td>3.966317e+05</td>\n",
       "    </tr>\n",
       "    <tr>\n",
       "      <th>Greenwich</th>\n",
       "      <td>81532.933366</td>\n",
       "      <td>3.883443e+05</td>\n",
       "    </tr>\n",
       "    <tr>\n",
       "      <th>Hackney</th>\n",
       "      <td>87869.535804</td>\n",
       "      <td>5.446405e+05</td>\n",
       "    </tr>\n",
       "    <tr>\n",
       "      <th>Hammersmith &amp; Fulham</th>\n",
       "      <td>175340.921250</td>\n",
       "      <td>7.255253e+05</td>\n",
       "    </tr>\n",
       "    <tr>\n",
       "      <th>Haringey</th>\n",
       "      <td>107419.850108</td>\n",
       "      <td>5.515606e+05</td>\n",
       "    </tr>\n",
       "    <tr>\n",
       "      <th>Harrow</th>\n",
       "      <td>114778.250067</td>\n",
       "      <td>4.659075e+05</td>\n",
       "    </tr>\n",
       "    <tr>\n",
       "      <th>Havering</th>\n",
       "      <td>85602.087977</td>\n",
       "      <td>3.702488e+05</td>\n",
       "    </tr>\n",
       "    <tr>\n",
       "      <th>Hillingdon</th>\n",
       "      <td>97676.048952</td>\n",
       "      <td>4.102661e+05</td>\n",
       "    </tr>\n",
       "    <tr>\n",
       "      <th>Hounslow</th>\n",
       "      <td>99746.069682</td>\n",
       "      <td>3.966312e+05</td>\n",
       "    </tr>\n",
       "    <tr>\n",
       "      <th>Islington</th>\n",
       "      <td>134148.973300</td>\n",
       "      <td>6.498241e+05</td>\n",
       "    </tr>\n",
       "    <tr>\n",
       "      <th>Kensington &amp; Chelsea</th>\n",
       "      <td>268350.122142</td>\n",
       "      <td>1.363880e+06</td>\n",
       "    </tr>\n",
       "    <tr>\n",
       "      <th>Kingston upon Thames</th>\n",
       "      <td>116399.769158</td>\n",
       "      <td>4.970910e+05</td>\n",
       "    </tr>\n",
       "    <tr>\n",
       "      <th>Lambeth</th>\n",
       "      <td>103179.118943</td>\n",
       "      <td>5.115364e+05</td>\n",
       "    </tr>\n",
       "    <tr>\n",
       "      <th>Lewisham</th>\n",
       "      <td>75539.051649</td>\n",
       "      <td>4.116290e+05</td>\n",
       "    </tr>\n",
       "    <tr>\n",
       "      <th>Merton</th>\n",
       "      <td>108049.855117</td>\n",
       "      <td>5.122939e+05</td>\n",
       "    </tr>\n",
       "    <tr>\n",
       "      <th>Newham</th>\n",
       "      <td>67671.270763</td>\n",
       "      <td>3.590225e+05</td>\n",
       "    </tr>\n",
       "    <tr>\n",
       "      <th>Redbridge</th>\n",
       "      <td>94514.395822</td>\n",
       "      <td>4.225911e+05</td>\n",
       "    </tr>\n",
       "    <tr>\n",
       "      <th>Richmond upon Thames</th>\n",
       "      <td>162956.066025</td>\n",
       "      <td>6.526654e+05</td>\n",
       "    </tr>\n",
       "    <tr>\n",
       "      <th>Southwark</th>\n",
       "      <td>91405.187779</td>\n",
       "      <td>5.042354e+05</td>\n",
       "    </tr>\n",
       "    <tr>\n",
       "      <th>Sutton</th>\n",
       "      <td>92087.045921</td>\n",
       "      <td>3.792626e+05</td>\n",
       "    </tr>\n",
       "    <tr>\n",
       "      <th>Tower Hamlets</th>\n",
       "      <td>96505.166407</td>\n",
       "      <td>4.465006e+05</td>\n",
       "    </tr>\n",
       "    <tr>\n",
       "      <th>Waltham Forest</th>\n",
       "      <td>75557.474132</td>\n",
       "      <td>4.408594e+05</td>\n",
       "    </tr>\n",
       "    <tr>\n",
       "      <th>Wandsworth</th>\n",
       "      <td>125406.807233</td>\n",
       "      <td>5.966491e+05</td>\n",
       "    </tr>\n",
       "    <tr>\n",
       "      <th>Westminster</th>\n",
       "      <td>190531.949942</td>\n",
       "      <td>1.020025e+06</td>\n",
       "    </tr>\n",
       "  </tbody>\n",
       "</table>\n",
       "</div>"
      ],
      "text/plain": [
       "                      Average Price              \n",
       "Year                           1998          2018\n",
       "London_Borough                                   \n",
       "Barking & Dagenham     60285.821083  2.951967e+05\n",
       "Barnet                122359.468033  5.332665e+05\n",
       "Bexley                 80632.020822  3.426036e+05\n",
       "Brent                 100692.590417  4.928454e+05\n",
       "Bromley               108286.520467  4.434100e+05\n",
       "Camden                170688.973933  8.424104e+05\n",
       "Croydon                88143.228830  3.702985e+05\n",
       "Ealing                111343.154650  4.800505e+05\n",
       "Enfield                93030.224322  3.966317e+05\n",
       "Greenwich              81532.933366  3.883443e+05\n",
       "Hackney                87869.535804  5.446405e+05\n",
       "Hammersmith & Fulham  175340.921250  7.255253e+05\n",
       "Haringey              107419.850108  5.515606e+05\n",
       "Harrow                114778.250067  4.659075e+05\n",
       "Havering               85602.087977  3.702488e+05\n",
       "Hillingdon             97676.048952  4.102661e+05\n",
       "Hounslow               99746.069682  3.966312e+05\n",
       "Islington             134148.973300  6.498241e+05\n",
       "Kensington & Chelsea  268350.122142  1.363880e+06\n",
       "Kingston upon Thames  116399.769158  4.970910e+05\n",
       "Lambeth               103179.118943  5.115364e+05\n",
       "Lewisham               75539.051649  4.116290e+05\n",
       "Merton                108049.855117  5.122939e+05\n",
       "Newham                 67671.270763  3.590225e+05\n",
       "Redbridge              94514.395822  4.225911e+05\n",
       "Richmond upon Thames  162956.066025  6.526654e+05\n",
       "Southwark              91405.187779  5.042354e+05\n",
       "Sutton                 92087.045921  3.792626e+05\n",
       "Tower Hamlets          96505.166407  4.465006e+05\n",
       "Waltham Forest         75557.474132  4.408594e+05\n",
       "Wandsworth            125406.807233  5.966491e+05\n",
       "Westminster           190531.949942  1.020025e+06"
      ]
     },
     "execution_count": 42,
     "metadata": {},
     "output_type": "execute_result"
    }
   ],
   "source": [
    "year1998_2018_widetable = pd.pivot_table(year1998_2018, values=['Average Price'], index=['London_Borough'],columns=\"Year\")  \n",
    "year1998_2018_widetable"
   ]
  },
  {
   "cell_type": "code",
   "execution_count": 43,
   "metadata": {},
   "outputs": [
    {
     "data": {
      "text/plain": [
       "MultiIndex([('Average Price', '1998'),\n",
       "            ('Average Price', '2018')],\n",
       "           names=[None, 'Year'])"
      ]
     },
     "execution_count": 43,
     "metadata": {},
     "output_type": "execute_result"
    }
   ],
   "source": [
    "year1998_2018_widetable.columns"
   ]
  },
  {
   "cell_type": "code",
   "execution_count": 44,
   "metadata": {},
   "outputs": [],
   "source": [
    "year1998_2018_widetable['Ratio'] = year1998_2018_widetable[('Average Price', '2018')]*100/year1998_2018_widetable[('Average Price', '1998')]"
   ]
  },
  {
   "cell_type": "code",
   "execution_count": 52,
   "metadata": {},
   "outputs": [
    {
     "data": {
      "image/png": "[encoded data removed]",
      "text/plain": [
       "<Figure size 432x288 with 1 Axes>"
      ]
     },
     "metadata": {
      "needs_background": "light"
     },
     "output_type": "display_data"
    }
   ],
   "source": [
    "sorted_1998_2018=year1998_2018_widetable.sort_values('Ratio', ascending=False)\n",
    "# Hackney is the one increased most in the from 1998 to 2018\n",
    "sorted_1998_2018.plot(kind=\"bar\")\n",
    "####from left to right is the the increase% from highest to lowest\n",
    "plt.savefig('sorted_1998_2018.svg', format='svg', dpi=1200, bbox_inches='tight')"
   ]
  },
  {
   "cell_type": "code",
   "execution_count": 58,
   "metadata": {},
   "outputs": [
    {
     "data": {
      "image/png": "[encoded data removed]",
      "text/plain": [
       "<Figure size 432x288 with 1 Axes>"
      ]
     },
     "metadata": {
      "needs_background": "light"
     },
     "output_type": "display_data"
    },
    {
     "data": {
      "text/plain": [
       "<Figure size 432x288 with 0 Axes>"
      ]
     },
     "metadata": {},
     "output_type": "display_data"
    }
   ],
   "source": [
    "Hackney=onlyLB[onlyLB[\"London_Borough\"]==\"Hackney\"]\n",
    "Hackney.plot(x=\"Month\", y=\"Average Price\", kind=\"line\")\n",
    "plt.show()\n",
    "plt.savefig('Hackney.png', format='png', dpi=1200, bbox_inches='tight')"
   ]
  },
  {
   "cell_type": "code",
   "execution_count": 47,
   "metadata": {},
   "outputs": [
    {
     "data": {
      "text/html": [
       "<div>\n",
       "<style scoped>\n",
       "    .dataframe tbody tr th:only-of-type {\n",
       "        vertical-align: middle;\n",
       "    }\n",
       "\n",
       "    .dataframe tbody tr th {\n",
       "        vertical-align: top;\n",
       "    }\n",
       "\n",
       "    .dataframe thead th {\n",
       "        text-align: right;\n",
       "    }\n",
       "</style>\n",
       "<table border=\"1\" class=\"dataframe\">\n",
       "  <thead>\n",
       "    <tr style=\"text-align: right;\">\n",
       "      <th></th>\n",
       "      <th>London_Borough</th>\n",
       "      <th>ID</th>\n",
       "      <th>Month</th>\n",
       "      <th>Average Price</th>\n",
       "      <th>Year</th>\n",
       "    </tr>\n",
       "  </thead>\n",
       "  <tbody>\n",
       "    <tr>\n",
       "      <th>15121</th>\n",
       "      <td>Barking &amp; Dagenham</td>\n",
       "      <td>E09000002</td>\n",
       "      <td>2023-01-01</td>\n",
       "      <td>352043.1242</td>\n",
       "      <td>2023</td>\n",
       "    </tr>\n",
       "    <tr>\n",
       "      <th>15122</th>\n",
       "      <td>Barnet</td>\n",
       "      <td>E09000003</td>\n",
       "      <td>2023-01-01</td>\n",
       "      <td>598835.4533</td>\n",
       "      <td>2023</td>\n",
       "    </tr>\n",
       "    <tr>\n",
       "      <th>15123</th>\n",
       "      <td>Bexley</td>\n",
       "      <td>E09000004</td>\n",
       "      <td>2023-01-01</td>\n",
       "      <td>399887.1166</td>\n",
       "      <td>2023</td>\n",
       "    </tr>\n",
       "    <tr>\n",
       "      <th>15124</th>\n",
       "      <td>Brent</td>\n",
       "      <td>E09000005</td>\n",
       "      <td>2023-01-01</td>\n",
       "      <td>560637.6337</td>\n",
       "      <td>2023</td>\n",
       "    </tr>\n",
       "    <tr>\n",
       "      <th>15125</th>\n",
       "      <td>Bromley</td>\n",
       "      <td>E09000006</td>\n",
       "      <td>2023-01-01</td>\n",
       "      <td>514158.9388</td>\n",
       "      <td>2023</td>\n",
       "    </tr>\n",
       "    <tr>\n",
       "      <th>...</th>\n",
       "      <td>...</td>\n",
       "      <td>...</td>\n",
       "      <td>...</td>\n",
       "      <td>...</td>\n",
       "      <td>...</td>\n",
       "    </tr>\n",
       "    <tr>\n",
       "      <th>15193</th>\n",
       "      <td>Sutton</td>\n",
       "      <td>E09000029</td>\n",
       "      <td>2023-02-01</td>\n",
       "      <td>447798.8127</td>\n",
       "      <td>2023</td>\n",
       "    </tr>\n",
       "    <tr>\n",
       "      <th>15194</th>\n",
       "      <td>Tower Hamlets</td>\n",
       "      <td>E09000030</td>\n",
       "      <td>2023-02-01</td>\n",
       "      <td>502932.341</td>\n",
       "      <td>2023</td>\n",
       "    </tr>\n",
       "    <tr>\n",
       "      <th>15195</th>\n",
       "      <td>Waltham Forest</td>\n",
       "      <td>E09000031</td>\n",
       "      <td>2023-02-01</td>\n",
       "      <td>509781.8616</td>\n",
       "      <td>2023</td>\n",
       "    </tr>\n",
       "    <tr>\n",
       "      <th>15196</th>\n",
       "      <td>Wandsworth</td>\n",
       "      <td>E09000032</td>\n",
       "      <td>2023-02-01</td>\n",
       "      <td>639194.1777</td>\n",
       "      <td>2023</td>\n",
       "    </tr>\n",
       "    <tr>\n",
       "      <th>15197</th>\n",
       "      <td>Westminster</td>\n",
       "      <td>E09000033</td>\n",
       "      <td>2023-02-01</td>\n",
       "      <td>968017.3986</td>\n",
       "      <td>2023</td>\n",
       "    </tr>\n",
       "  </tbody>\n",
       "</table>\n",
       "<p>64 rows × 5 columns</p>\n",
       "</div>"
      ],
      "text/plain": [
       "           London_Borough         ID      Month Average Price  Year\n",
       "15121  Barking & Dagenham  E09000002 2023-01-01   352043.1242  2023\n",
       "15122              Barnet  E09000003 2023-01-01   598835.4533  2023\n",
       "15123              Bexley  E09000004 2023-01-01   399887.1166  2023\n",
       "15124               Brent  E09000005 2023-01-01   560637.6337  2023\n",
       "15125             Bromley  E09000006 2023-01-01   514158.9388  2023\n",
       "...                   ...        ...        ...           ...   ...\n",
       "15193              Sutton  E09000029 2023-02-01   447798.8127  2023\n",
       "15194       Tower Hamlets  E09000030 2023-02-01    502932.341  2023\n",
       "15195      Waltham Forest  E09000031 2023-02-01   509781.8616  2023\n",
       "15196          Wandsworth  E09000032 2023-02-01   639194.1777  2023\n",
       "15197         Westminster  E09000033 2023-02-01   968017.3986  2023\n",
       "\n",
       "[64 rows x 5 columns]"
      ]
     },
     "execution_count": 47,
     "metadata": {},
     "output_type": "execute_result"
    }
   ],
   "source": [
    "### explore 2023 \n",
    "year2023 = onlyLB[onlyLB['Year'].isin(['2023'])]\n",
    "year2023"
   ]
  },
  {
   "cell_type": "code",
   "execution_count": 54,
   "metadata": {},
   "outputs": [
    {
     "data": {
      "image/png": "[encoded data removed]",
      "text/plain": [
       "<Figure size 432x288 with 1 Axes>"
      ]
     },
     "metadata": {
      "needs_background": "light"
     },
     "output_type": "display_data"
    }
   ],
   "source": [
    "Avg_2023 = pd.pivot_table(year2023, values=['Average Price'], index=['London_Borough'],\n",
    "                       aggfunc={np.mean})\n",
    "sorted_2023=Avg_2023.sort_values(('Average Price', 'mean'), ascending=False)\n",
    "sorted_2023.plot(kind=\"bar\")\n",
    "plt.savefig('sorted_2023.svg', format='svg', dpi=1200, bbox_inches='tight')"
   ]
  },
  {
   "cell_type": "code",
   "execution_count": 56,
   "metadata": {},
   "outputs": [
    {
     "data": {
      "image/png": "[encoded data removed]",
      "text/plain": [
       "<Figure size 432x288 with 1 Axes>"
      ]
     },
     "metadata": {
      "needs_background": "light"
     },
     "output_type": "display_data"
    },
    {
     "data": {
      "text/plain": [
       "<Figure size 432x288 with 0 Axes>"
      ]
     },
     "metadata": {},
     "output_type": "display_data"
    }
   ],
   "source": [
    "Kensington_Chelsea=onlyLB[onlyLB[\"London_Borough\"]==\"Kensington & Chelsea\"]\n",
    "Kensington_Chelsea.plot(x=\"Month\", y=\"Average Price\", kind=\"line\")\n",
    "plt.show()\n",
    "plt.savefig('Kensington_Chelsea.svg', format='svg', dpi=1200, bbox_inches='tight')"
   ]
  },
  {
   "cell_type": "markdown",
   "metadata": {
    "colab_type": "text",
    "id": "NzYUI7FxJpgv",
    "jp-MarkdownHeadingCollapsed": true,
    "tags": []
   },
   "source": [
    "### 4. Conclusion\n",
    "What can you conclude? Type out your conclusion below. \n",
    "\n",
    "First, I found the min and max of each month average price for each borough, and compared the absolute increase and increase percentage of each borough. The results are  Kensington & Chelsea increased 1.330347e+06, and Hackney relatively increased most compared to lowest point by 958.583202%. \n",
    "\n",
    "However, I realized this maynot reflect the changes in the last 2 decades since min and max can be some outliers and the min not necessary was the 20 year back and max not necessary happened recently. It make senses to average the price per year first and do the calculation. \n",
    "\n",
    "Then I followed the suggstion to find out the 1998 and 2018 year's data and calculated the average for these two years and the change ratio from 1998 to 2018. The result showed that Hackney is still the one relatively increased most in the last two decades, although it's not absolute most expensive area. \n",
    "\n",
    "\n",
    "Look back at your notebook. Think about how you might summarize what you have done, and prepare a quick presentation on it to your mentor at your next meeting. \n",
    "\n",
    "We hope you enjoyed this practical project. It should have consolidated your data hygiene and pandas skills by looking at a real-world problem involving just the kind of dataset you might encounter as a budding data scientist. Congratulations, and looking forward to seeing you at the next step in the course! "
   ]
  }
 ],
 "metadata": {
  "colab": {
   "collapsed_sections": [],
   "name": "Springboard Data Science Career Track Unit 4 Challenge - Tier 3 Complete .ipynb",
   "provenance": []
  },
  "kernelspec": {
   "display_name": "Python 3 (ipykernel)",
   "language": "python",
   "name": "python3"
  },
  "language_info": {
   "codemirror_mode": {
    "name": "ipython",
    "version": 3
   },
   "file_extension": ".py",
   "mimetype": "text/x-python",
   "name": "python",
   "nbconvert_exporter": "python",
   "pygments_lexer": "ipython3",
   "version": "3.9.12"
  }
 },
 "nbformat": 4,
 "nbformat_minor": 4
}
